{
  "nbformat": 4,
  "nbformat_minor": 0,
  "metadata": {
    "colab": {
      "provenance": []
    },
    "kernelspec": {
      "name": "python3",
      "display_name": "Python 3"
    },
    "language_info": {
      "name": "python"
    }
  },
  "cells": [
    {
      "cell_type": "code",
      "execution_count": null,
      "metadata": {
        "id": "wRPp-5vqFDiI"
      },
      "outputs": [],
      "source": [
        "#joto beshi deep layer e jai toto beshi receptive field increase kore\n",
        "#as we go along the depth the receptive field increases"
      ]
    },
    {
      "cell_type": "code",
      "source": [
        "#****SEE: TSNE Plot"
      ],
      "metadata": {
        "id": "S2n3h6JBJD7s"
      },
      "execution_count": null,
      "outputs": []
    },
    {
      "cell_type": "code",
      "source": [
        "#search coco 2017 in kaggle"
      ],
      "metadata": {
        "id": "dHDtbuYdMYC3"
      },
      "execution_count": null,
      "outputs": []
    }
  ]
}