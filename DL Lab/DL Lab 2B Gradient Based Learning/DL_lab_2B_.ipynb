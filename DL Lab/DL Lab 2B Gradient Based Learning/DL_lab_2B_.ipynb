{
  "nbformat": 4,
  "nbformat_minor": 0,
  "metadata": {
    "colab": {
      "provenance": []
    },
    "kernelspec": {
      "name": "python3",
      "display_name": "Python 3"
    },
    "language_info": {
      "name": "python"
    }
  },
  "cells": [
    {
      "cell_type": "code",
      "execution_count": null,
      "metadata": {
        "id": "XUv2w5NxGIFA"
      },
      "outputs": [],
      "source": [
        "import numpy as np"
      ]
    },
    {
      "cell_type": "code",
      "source": [
        "X = np.array([[0,0],[0,1],[1,0],[1,1]])\n",
        "y = np.array([[0],[1],[1],[1]])"
      ],
      "metadata": {
        "id": "450BLmk7GQ61"
      },
      "execution_count": null,
      "outputs": []
    },
    {
      "cell_type": "code",
      "source": [
        "X.shape"
      ],
      "metadata": {
        "colab": {
          "base_uri": "https://localhost:8080/"
        },
        "id": "iPBWU5ETKiQJ",
        "outputId": "31641be3-317d-4699-c031-654a150b5986"
      },
      "execution_count": null,
      "outputs": [
        {
          "output_type": "execute_result",
          "data": {
            "text/plain": [
              "(4, 2)"
            ]
          },
          "metadata": {},
          "execution_count": 10
        }
      ]
    },
    {
      "cell_type": "code",
      "source": [
        "y.shape"
      ],
      "metadata": {
        "colab": {
          "base_uri": "https://localhost:8080/"
        },
        "id": "o9m_u6s6K5a5",
        "outputId": "d71239c1-2fe6-4a34-9710-19f14176f490"
      },
      "execution_count": null,
      "outputs": [
        {
          "output_type": "execute_result",
          "data": {
            "text/plain": [
              "(4, 1)"
            ]
          },
          "metadata": {},
          "execution_count": 18
        }
      ]
    },
    {
      "cell_type": "code",
      "source": [
        "w = np.random.uniform(size = (X.shape[1],y.shape[1]))"
      ],
      "metadata": {
        "id": "XgLCv2f_KXT7"
      },
      "execution_count": null,
      "outputs": []
    },
    {
      "cell_type": "code",
      "source": [
        "b = np.random.uniform(size = y.shape)"
      ],
      "metadata": {
        "id": "9nLeR5CeLDpJ"
      },
      "execution_count": null,
      "outputs": []
    },
    {
      "cell_type": "code",
      "source": [
        "b"
      ],
      "metadata": {
        "colab": {
          "base_uri": "https://localhost:8080/"
        },
        "id": "wIFWTSBJLO7l",
        "outputId": "5f88f0fc-5ab1-4fc3-8b43-c72e732550ae"
      },
      "execution_count": null,
      "outputs": [
        {
          "output_type": "execute_result",
          "data": {
            "text/plain": [
              "array([[0.56460904],\n",
              "       [0.97984475],\n",
              "       [0.10211466],\n",
              "       [0.98927647]])"
            ]
          },
          "metadata": {},
          "execution_count": 22
        }
      ]
    },
    {
      "cell_type": "code",
      "source": [
        "w"
      ],
      "metadata": {
        "colab": {
          "base_uri": "https://localhost:8080/"
        },
        "id": "bgC95Zy7KgBJ",
        "outputId": "f32e2a89-9679-4b84-dc5f-d5b4091f497d"
      },
      "execution_count": null,
      "outputs": [
        {
          "output_type": "execute_result",
          "data": {
            "text/plain": [
              "array([[0.30165994],\n",
              "       [0.59775801]])"
            ]
          },
          "metadata": {},
          "execution_count": 17
        }
      ]
    },
    {
      "cell_type": "code",
      "source": [
        "y_pred = X.dot(w) + b"
      ],
      "metadata": {
        "id": "w9lauHbnI9D_"
      },
      "execution_count": null,
      "outputs": []
    },
    {
      "cell_type": "code",
      "source": [
        "sigmoid = 1/(1+ np.exp(-y_pred))\n",
        "z = 1/(1+ np.exp(y))"
      ],
      "metadata": {
        "id": "pLm8d8KDGkew"
      },
      "execution_count": null,
      "outputs": []
    },
    {
      "cell_type": "code",
      "source": [
        "print(sigmoid)\n",
        "print(z)"
      ],
      "metadata": {
        "colab": {
          "base_uri": "https://localhost:8080/"
        },
        "id": "P7lADCz4Ndtx",
        "outputId": "dca035ab-9135-481a-c31e-d57e7d326075"
      },
      "execution_count": null,
      "outputs": [
        {
          "output_type": "stream",
          "name": "stdout",
          "text": [
            "[[0.63751831]\n",
            " [0.82886474]\n",
            " [0.59959421]\n",
            " [0.8686066 ]]\n",
            "[[0.5       ]\n",
            " [0.26894142]\n",
            " [0.26894142]\n",
            " [0.26894142]]\n"
          ]
        }
      ]
    },
    {
      "cell_type": "code",
      "source": [
        "E = 0\n",
        "for i in range(4):\n",
        "  E += .5*(y[i]-sigmoid[i])**2"
      ],
      "metadata": {
        "id": "n1AXRqt7Lpe_"
      },
      "execution_count": null,
      "outputs": []
    },
    {
      "cell_type": "code",
      "source": [
        "E"
      ],
      "metadata": {
        "colab": {
          "base_uri": "https://localhost:8080/"
        },
        "id": "YqDTrZL1JcZh",
        "outputId": "f813eec2-8335-4228-b305-b609f1b02ddb"
      },
      "execution_count": null,
      "outputs": [
        {
          "output_type": "execute_result",
          "data": {
            "text/plain": [
              "array([0.30665295])"
            ]
          },
          "metadata": {},
          "execution_count": 32
        }
      ]
    },
    {
      "cell_type": "code",
      "source": [
        "(-1* (y - z) * (sigmoid * (1 - sigmoid))).shape"
      ],
      "metadata": {
        "colab": {
          "base_uri": "https://localhost:8080/"
        },
        "id": "65FJcXnkQAo9",
        "outputId": "50099ce2-86af-4fcb-f4ce-a5c3b3ced7f2"
      },
      "execution_count": null,
      "outputs": [
        {
          "output_type": "execute_result",
          "data": {
            "text/plain": [
              "(4, 1)"
            ]
          },
          "metadata": {},
          "execution_count": 41
        }
      ]
    },
    {
      "cell_type": "code",
      "source": [
        "X.T.dot((-1* (y - z) * (sigmoid * (1 - sigmoid))))"
      ],
      "metadata": {
        "colab": {
          "base_uri": "https://localhost:8080/"
        },
        "id": "AJE8IRBMMR80",
        "outputId": "a2a83da4-7ae7-45bd-f044-2c9e4cfc1c50"
      },
      "execution_count": null,
      "outputs": [
        {
          "output_type": "execute_result",
          "data": {
            "text/plain": [
              "array([[-0.25894838],\n",
              "       [-0.1871343 ]])"
            ]
          },
          "metadata": {},
          "execution_count": 44
        }
      ]
    },
    {
      "cell_type": "code",
      "source": [
        "X.shape"
      ],
      "metadata": {
        "colab": {
          "base_uri": "https://localhost:8080/"
        },
        "id": "l9hzcmcUPpkv",
        "outputId": "9128cb00-d315-4222-ae04-340e81051c72"
      },
      "execution_count": null,
      "outputs": [
        {
          "output_type": "execute_result",
          "data": {
            "text/plain": [
              "(4, 2)"
            ]
          },
          "metadata": {},
          "execution_count": 45
        }
      ]
    },
    {
      "cell_type": "code",
      "source": [
        "w"
      ],
      "metadata": {
        "colab": {
          "base_uri": "https://localhost:8080/"
        },
        "id": "iJADaJy2PrtG",
        "outputId": "66ed8e35-0af7-4d77-9aff-5914a4ffd111"
      },
      "execution_count": null,
      "outputs": [
        {
          "output_type": "execute_result",
          "data": {
            "text/plain": [
              "array([[0.30165994],\n",
              "       [0.59775801]])"
            ]
          },
          "metadata": {},
          "execution_count": 46
        }
      ]
    },
    {
      "cell_type": "code",
      "source": [],
      "metadata": {
        "id": "0_Y3zakPQaIj"
      },
      "execution_count": null,
      "outputs": []
    }
  ]
}