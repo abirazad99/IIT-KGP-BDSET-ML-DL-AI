{
  "nbformat": 4,
  "nbformat_minor": 0,
  "metadata": {
    "colab": {
      "provenance": []
    },
    "kernelspec": {
      "name": "python3",
      "display_name": "Python 3"
    },
    "language_info": {
      "name": "python"
    }
  },
  "cells": [
    {
      "cell_type": "code",
      "execution_count": null,
      "metadata": {
        "id": "u-yvT6xA5Eud"
      },
      "outputs": [],
      "source": [
        "import numpy as np\n",
        "import matplotlib.pyplot as plt"
      ]
    },
    {
      "cell_type": "code",
      "source": [
        "A = np.array([[0,0,0,0,0,0,0,255],\n",
        "     [0,0,0,255,0,0,0,0],\n",
        "     [0,0,255,0,255,0,0,0],\n",
        "     [0,0,0,255,0,0,0,0],\n",
        "     [0,0,0,255,255,0,0,0],\n",
        "     [0,0,255,255,0,0,0,0],\n",
        "     [0,0,0,255,0,0,0,0],\n",
        "     [0,0,0,0,0,0,0,0]], dtype = np.uint8)"
      ],
      "metadata": {
        "id": "HKKVcYZZ5NVG"
      },
      "execution_count": null,
      "outputs": []
    },
    {
      "cell_type": "code",
      "source": [
        "print(A)"
      ],
      "metadata": {
        "colab": {
          "base_uri": "https://localhost:8080/"
        },
        "id": "OI5P9O5G500c",
        "outputId": "5f8a81c6-fcb4-41f9-dfcb-baf6c719d3c2"
      },
      "execution_count": null,
      "outputs": [
        {
          "output_type": "stream",
          "name": "stdout",
          "text": [
            "[[  0   0   0   0   0   0   0 255]\n",
            " [  0   0   0 255   0   0   0   0]\n",
            " [  0   0 255   0 255   0   0   0]\n",
            " [  0   0   0 255   0   0   0   0]\n",
            " [  0   0   0 255 255   0   0   0]\n",
            " [  0   0 255 255   0   0   0   0]\n",
            " [  0   0   0 255   0   0   0   0]\n",
            " [  0   0   0   0   0   0   0   0]]\n"
          ]
        }
      ]
    },
    {
      "cell_type": "code",
      "source": [
        "from PIL import Image as im\n",
        "\n",
        "# array = np.arange(0, 64, 1, np.uint8)\n",
        "# array = np.reshape(A, (8, 8))\n",
        "data = im.fromarray(A)\n",
        "data.save('sample.png')\n",
        "data"
      ],
      "metadata": {
        "colab": {
          "base_uri": "https://localhost:8080/",
          "height": 34
        },
        "id": "nmEXRgsS516k",
        "outputId": "76e5f08d-4818-458a-d2ab-73c48ba5b1d7"
      },
      "execution_count": null,
      "outputs": [
        {
          "output_type": "execute_result",
          "data": {
            "text/plain": [
              "<PIL.Image.Image image mode=L size=8x8 at 0x7F06B5600C90>"
            ],
            "image/png": "[encoded data removed]"
          },
          "metadata": {},
          "execution_count": 55
        }
      ]
    },
    {
      "cell_type": "code",
      "source": [
        "plt.imshow(A)"
      ],
      "metadata": {
        "colab": {
          "base_uri": "https://localhost:8080/",
          "height": 282
        },
        "id": "aE0PSF5H6igd",
        "outputId": "fd0f63a6-95b2-40da-c20a-be7c6b3ff2ef"
      },
      "execution_count": null,
      "outputs": [
        {
          "output_type": "execute_result",
          "data": {
            "text/plain": [
              "<matplotlib.image.AxesImage at 0x7f06b5498510>"
            ]
          },
          "metadata": {},
          "execution_count": 56
        },
        {
          "output_type": "display_data",
          "data": {
            "text/plain": [
              "<Figure size 432x288 with 1 Axes>"
            ],
            "image/png": "[encoded data removed]"
          },
          "metadata": {
            "needs_background": "light"
          }
        }
      ]
    },
    {
      "cell_type": "code",
      "source": [
        "from scipy.linalg import svd\n",
        "U, s, VT = svd(A)"
      ],
      "metadata": {
        "id": "TaTiylxQ7W0M"
      },
      "execution_count": null,
      "outputs": []
    },
    {
      "cell_type": "code",
      "source": [
        "print(U)\n",
        "print(s)\n",
        "print(VT)"
      ],
      "metadata": {
        "colab": {
          "base_uri": "https://localhost:8080/"
        },
        "id": "FYvquWlzARZj",
        "outputId": "c12a1715-2b02-4c2d-f42b-4bef1fbdae8c"
      },
      "execution_count": null,
      "outputs": [
        {
          "output_type": "stream",
          "name": "stdout",
          "text": [
            "[[ 0.0000000e+00 -0.0000000e+00  1.0000000e+00  0.0000000e+00\n",
            "   0.0000000e+00  0.0000000e+00  0.0000000e+00  0.0000000e+00]\n",
            " [-3.7093177e-01 -3.0525213e-01  0.0000000e+00  0.0000000e+00\n",
            "   0.0000000e+00  0.0000000e+00  0.0000000e+00 -8.7705803e-01]\n",
            " [-2.7154106e-01  8.3396417e-01  0.0000000e+00 -3.2347746e-08\n",
            "   0.0000000e+00  2.4517682e-01 -3.7401646e-01 -1.7541164e-01]\n",
            " [-3.7093174e-01 -3.0525208e-01  0.0000000e+00 -2.0292452e-08\n",
            "   0.0000000e+00 -3.4619516e-01 -7.6167512e-01  2.6311743e-01]\n",
            " [-5.0670224e-01  1.1172998e-01  0.0000000e+00 -7.0710683e-01\n",
            "   0.0000000e+00 -2.4517681e-01  3.7401655e-01  1.7541163e-01]\n",
            " [-5.0670224e-01  1.1173004e-01  0.0000000e+00  7.0710683e-01\n",
            "   0.0000000e+00 -2.4517679e-01  3.7401643e-01  1.7541161e-01]\n",
            " [-3.7093174e-01 -3.0525213e-01  0.0000000e+00 -1.2055292e-08\n",
            "   0.0000000e+00  8.3654881e-01  1.3642073e-02  2.6311743e-01]\n",
            " [ 0.0000000e+00 -0.0000000e+00  0.0000000e+00  0.0000000e+00\n",
            "   1.0000000e+00  0.0000000e+00  0.0000000e+00  0.0000000e+00]]\n",
            "[2.39417    1.5059713  1.         0.99999994 0.         0.\n",
            " 0.         0.        ]\n",
            "[[-0.         -0.         -0.3250577  -0.8880738  -0.32505766 -0.\n",
            "  -0.         -0.        ]\n",
            " [ 0.          0.          0.6279631  -0.45970097  0.62796307  0.\n",
            "   0.          0.        ]\n",
            " [-0.          0.          0.          0.          0.          0.\n",
            "   0.          1.        ]\n",
            " [-0.         -0.          0.70710677  0.         -0.7071068  -0.\n",
            "  -0.         -0.        ]\n",
            " [ 0.         -1.          0.          0.          0.          0.\n",
            "   0.          0.        ]\n",
            " [ 0.          0.          0.          0.          0.          0.\n",
            "   1.          0.        ]\n",
            " [ 0.          0.          0.          0.          0.          1.\n",
            "   0.          0.        ]\n",
            " [ 1.          0.          0.          0.          0.          0.\n",
            "   0.          0.        ]]\n"
          ]
        }
      ]
    },
    {
      "cell_type": "code",
      "source": [
        "plt.imshow(s*(U.reshape(8,8).dot(VT.reshape(8,8))))"
      ],
      "metadata": {
        "colab": {
          "base_uri": "https://localhost:8080/",
          "height": 282
        },
        "id": "6U_om4n7BgTD",
        "outputId": "89c7eb2d-3094-417e-9c65-22ff366f54b6"
      },
      "execution_count": null,
      "outputs": [
        {
          "output_type": "execute_result",
          "data": {
            "text/plain": [
              "<matplotlib.image.AxesImage at 0x7f06bda7b490>"
            ]
          },
          "metadata": {},
          "execution_count": 13
        },
        {
          "output_type": "display_data",
          "data": {
            "text/plain": [
              "<Figure size 432x288 with 1 Axes>"
            ],
            "image/png": "[encoded data removed]"
          },
          "metadata": {
            "needs_background": "light"
          }
        }
      ]
    },
    {
      "cell_type": "code",
      "source": [
        "s[0]"
      ],
      "metadata": {
        "colab": {
          "base_uri": "https://localhost:8080/"
        },
        "id": "XU8e9g2_CZBC",
        "outputId": "823e8a28-17ad-42a3-deb1-1f5dfe90b3d9"
      },
      "execution_count": null,
      "outputs": [
        {
          "output_type": "execute_result",
          "data": {
            "text/plain": [
              "2.39417"
            ]
          },
          "metadata": {},
          "execution_count": 62
        }
      ]
    },
    {
      "cell_type": "code",
      "source": [
        "np.diag(s)"
      ],
      "metadata": {
        "colab": {
          "base_uri": "https://localhost:8080/"
        },
        "id": "0NODpYC2CgHR",
        "outputId": "742f97de-aec9-4e97-c698-c65565352e82"
      },
      "execution_count": null,
      "outputs": [
        {
          "output_type": "execute_result",
          "data": {
            "text/plain": [
              "array([[2.39417   , 0.        , 0.        , 0.        , 0.        ,\n",
              "        0.        , 0.        , 0.        ],\n",
              "       [0.        , 1.5059713 , 0.        , 0.        , 0.        ,\n",
              "        0.        , 0.        , 0.        ],\n",
              "       [0.        , 0.        , 1.        , 0.        , 0.        ,\n",
              "        0.        , 0.        , 0.        ],\n",
              "       [0.        , 0.        , 0.        , 0.99999994, 0.        ,\n",
              "        0.        , 0.        , 0.        ],\n",
              "       [0.        , 0.        , 0.        , 0.        , 0.        ,\n",
              "        0.        , 0.        , 0.        ],\n",
              "       [0.        , 0.        , 0.        , 0.        , 0.        ,\n",
              "        0.        , 0.        , 0.        ],\n",
              "       [0.        , 0.        , 0.        , 0.        , 0.        ,\n",
              "        0.        , 0.        , 0.        ],\n",
              "       [0.        , 0.        , 0.        , 0.        , 0.        ,\n",
              "        0.        , 0.        , 0.        ]], dtype=float32)"
            ]
          },
          "metadata": {},
          "execution_count": 65
        }
      ]
    },
    {
      "cell_type": "code",
      "source": [
        "VT[0].reshape(8,1)"
      ],
      "metadata": {
        "colab": {
          "base_uri": "https://localhost:8080/"
        },
        "id": "iCwNHbRGD7hS",
        "outputId": "44a5dfd2-00f1-4b6f-a740-f2f137fc4d60"
      },
      "execution_count": null,
      "outputs": [
        {
          "output_type": "execute_result",
          "data": {
            "text/plain": [
              "array([[-0.        ],\n",
              "       [-0.        ],\n",
              "       [-0.3250577 ],\n",
              "       [-0.8880738 ],\n",
              "       [-0.32505766],\n",
              "       [-0.        ],\n",
              "       [-0.        ],\n",
              "       [-0.        ]], dtype=float32)"
            ]
          },
          "metadata": {},
          "execution_count": 95
        }
      ]
    },
    {
      "cell_type": "code",
      "source": [
        "s.shape"
      ],
      "metadata": {
        "colab": {
          "base_uri": "https://localhost:8080/"
        },
        "id": "gBbd2Ip_EZOu",
        "outputId": "4aadd204-3094-46c1-e87d-ef912bf4a317"
      },
      "execution_count": null,
      "outputs": [
        {
          "output_type": "execute_result",
          "data": {
            "text/plain": [
              "(8,)"
            ]
          },
          "metadata": {},
          "execution_count": 100
        }
      ]
    },
    {
      "cell_type": "code",
      "source": [
        "for i in range(8):\n",
        "  print(i) "
      ],
      "metadata": {
        "colab": {
          "base_uri": "https://localhost:8080/"
        },
        "id": "9mRiYNEiErFp",
        "outputId": "3e3564fb-0984-46a7-8ec2-1f76b3f13c84"
      },
      "execution_count": null,
      "outputs": [
        {
          "output_type": "stream",
          "name": "stdout",
          "text": [
            "0\n",
            "1\n",
            "2\n",
            "3\n",
            "4\n",
            "5\n",
            "6\n",
            "7\n"
          ]
        }
      ]
    },
    {
      "cell_type": "code",
      "source": [
        "C = np.zeros(A.shape)\n",
        "for i in range(8):\n",
        "  B = (s[i]*(U[i].reshape(8,1).dot(VT[i].reshape(1,8))))\n",
        "  C += B\n",
        "  plt.imshow(B)\n",
        "  plt.show()"
      ],
      "metadata": {
        "colab": {
          "base_uri": "https://localhost:8080/",
          "height": 1000
        },
        "id": "MT8rShMrEfoB",
        "outputId": "bd14cd2f-da33-4cb0-deba-fc6a0669830c"
      },
      "execution_count": null,
      "outputs": [
        {
          "output_type": "display_data",
          "data": {
            "text/plain": [
              "<Figure size 432x288 with 1 Axes>"
            ],
            "image/png": "[encoded data removed]"
          },
          "metadata": {
            "needs_background": "light"
          }
        },
        {
          "output_type": "display_data",
          "data": {
            "text/plain": [
              "<Figure size 432x288 with 1 Axes>"
            ],
            "image/png": "[encoded data removed]"
          },
          "metadata": {
            "needs_background": "light"
          }
        },
        {
          "output_type": "display_data",
          "data": {
            "text/plain": [
              "<Figure size 432x288 with 1 Axes>"
            ],
            "image/png": "[encoded data removed]"
          },
          "metadata": {
            "needs_background": "light"
          }
        },
        {
          "output_type": "display_data",
          "data": {
            "text/plain": [
              "<Figure size 432x288 with 1 Axes>"
            ],
            "image/png": "[encoded data removed]"
          },
          "metadata": {
            "needs_background": "light"
          }
        },
        {
          "output_type": "display_data",
          "data": {
            "text/plain": [
              "<Figure size 432x288 with 1 Axes>"
            ],
            "image/png": "[encoded data removed]"
          },
          "metadata": {
            "needs_background": "light"
          }
        },
        {
          "output_type": "display_data",
          "data": {
            "text/plain": [
              "<Figure size 432x288 with 1 Axes>"
            ],
            "image/png": "[encoded data removed]"
          },
          "metadata": {
            "needs_background": "light"
          }
        },
        {
          "output_type": "display_data",
          "data": {
            "text/plain": [
              "<Figure size 432x288 with 1 Axes>"
            ],
            "image/png": "[encoded data removed]"
          },
          "metadata": {
            "needs_background": "light"
          }
        },
        {
          "output_type": "display_data",
          "data": {
            "text/plain": [
              "<Figure size 432x288 with 1 Axes>"
            ],
            "image/png": "[encoded data removed]"
          },
          "metadata": {
            "needs_background": "light"
          }
        }
      ]
    },
    {
      "cell_type": "code",
      "source": [
        "plt.imshow(C)"
      ],
      "metadata": {
        "colab": {
          "base_uri": "https://localhost:8080/",
          "height": 282
        },
        "id": "t7JzAvkfGA1P",
        "outputId": "15f52f2b-7412-4bb3-d64d-7a225944b8f3"
      },
      "execution_count": null,
      "outputs": [
        {
          "output_type": "execute_result",
          "data": {
            "text/plain": [
              "<matplotlib.image.AxesImage at 0x7f06b5711bd0>"
            ]
          },
          "metadata": {},
          "execution_count": 58
        },
        {
          "output_type": "display_data",
          "data": {
            "text/plain": [
              "<Figure size 432x288 with 1 Axes>"
            ],
            "image/png": "[encoded data removed]"
          },
          "metadata": {
            "needs_background": "light"
          }
        }
      ]
    },
    {
      "cell_type": "code",
      "source": [
        "for i in range(8):\n",
        "  C += B[i] "
      ],
      "metadata": {
        "id": "s6yhoQb_FfBy"
      },
      "execution_count": null,
      "outputs": []
    },
    {
      "cell_type": "code",
      "source": [
        "C"
      ],
      "metadata": {
        "colab": {
          "base_uri": "https://localhost:8080/"
        },
        "id": "EQ5lpdbcF93w",
        "outputId": "5cc49dcb-3fca-4c2e-d924-39b0d29a4b26"
      },
      "execution_count": null,
      "outputs": [
        {
          "output_type": "execute_result",
          "data": {
            "text/plain": [
              "array([[0., 0., 0., 0., 0., 0., 0., 0.],\n",
              "       [0., 0., 0., 0., 0., 0., 0., 0.],\n",
              "       [0., 0., 0., 0., 0., 0., 0., 0.],\n",
              "       [0., 0., 0., 0., 0., 0., 0., 0.],\n",
              "       [0., 0., 0., 0., 0., 0., 0., 0.],\n",
              "       [0., 0., 0., 0., 0., 0., 0., 0.],\n",
              "       [0., 0., 0., 0., 0., 0., 0., 0.],\n",
              "       [0., 0., 0., 0., 0., 0., 0., 0.]])"
            ]
          },
          "metadata": {},
          "execution_count": 124
        }
      ]
    },
    {
      "cell_type": "code",
      "source": [
        "plt.imshow(C)"
      ],
      "metadata": {
        "colab": {
          "base_uri": "https://localhost:8080/",
          "height": 282
        },
        "id": "MT164_yYF3xI",
        "outputId": "19c9ba02-73e9-43d1-dddf-35f4d157dee3"
      },
      "execution_count": null,
      "outputs": [
        {
          "output_type": "execute_result",
          "data": {
            "text/plain": [
              "<matplotlib.image.AxesImage at 0x7f66283dec10>"
            ]
          },
          "metadata": {},
          "execution_count": 123
        },
        {
          "output_type": "display_data",
          "data": {
            "text/plain": [
              "<Figure size 432x288 with 1 Axes>"
            ],
            "image/png": "[encoded data removed]"
          },
          "metadata": {
            "needs_background": "light"
          }
        }
      ]
    },
    {
      "cell_type": "code",
      "source": [
        "np.array(B).shape"
      ],
      "metadata": {
        "colab": {
          "base_uri": "https://localhost:8080/"
        },
        "id": "NVPfsPVPFBC5",
        "outputId": "46d5da35-d734-4b47-b2c9-3a0a00d153ad"
      },
      "execution_count": null,
      "outputs": [
        {
          "output_type": "execute_result",
          "data": {
            "text/plain": [
              "(8, 8, 8)"
            ]
          },
          "metadata": {},
          "execution_count": 110
        }
      ]
    },
    {
      "cell_type": "code",
      "source": [
        "plt.imshow(np.array(B)[0])"
      ],
      "metadata": {
        "colab": {
          "base_uri": "https://localhost:8080/",
          "height": 282
        },
        "id": "MNS7DnPpFHjp",
        "outputId": "f694ffa2-1b79-444c-95fd-c6dd1a5c5bbb"
      },
      "execution_count": null,
      "outputs": [
        {
          "output_type": "execute_result",
          "data": {
            "text/plain": [
              "<matplotlib.image.AxesImage at 0x7f662891a490>"
            ]
          },
          "metadata": {},
          "execution_count": 111
        },
        {
          "output_type": "display_data",
          "data": {
            "text/plain": [
              "<Figure size 432x288 with 1 Axes>"
            ],
            "image/png": "[encoded data removed]"
          },
          "metadata": {
            "needs_background": "light"
          }
        }
      ]
    },
    {
      "cell_type": "code",
      "source": [
        "plt.imshow(np.array(B)[0])"
      ],
      "metadata": {
        "id": "WVCravzVFOAB"
      },
      "execution_count": null,
      "outputs": []
    },
    {
      "cell_type": "code",
      "source": [
        "B = s[0]*(U[0].reshape(8,1).dot(VT[0].reshape(1,8)))\n",
        "U[0].reshape(8,1).dot(VT[0].reshape(1,8))"
      ],
      "metadata": {
        "colab": {
          "base_uri": "https://localhost:8080/"
        },
        "id": "G9uGKCwPCBeS",
        "outputId": "d7bef0a4-afe9-449b-99d1-a6b9c78b0f91"
      },
      "execution_count": null,
      "outputs": [
        {
          "output_type": "execute_result",
          "data": {
            "text/plain": [
              "array([[ 0.        ,  0.        ,  0.        ,  0.        ,  0.        ,\n",
              "         0.        ,  0.        ,  0.        ],\n",
              "       [ 0.        ,  0.        ,  0.        ,  0.        ,  0.        ,\n",
              "         0.        ,  0.        ,  0.        ],\n",
              "       [ 0.        ,  0.        , -0.3250577 , -0.8880738 , -0.32505766,\n",
              "         0.        ,  0.        ,  0.        ],\n",
              "       [ 0.        ,  0.        ,  0.        ,  0.        ,  0.        ,\n",
              "         0.        ,  0.        ,  0.        ],\n",
              "       [ 0.        ,  0.        ,  0.        ,  0.        ,  0.        ,\n",
              "         0.        ,  0.        ,  0.        ],\n",
              "       [ 0.        ,  0.        ,  0.        ,  0.        ,  0.        ,\n",
              "         0.        ,  0.        ,  0.        ],\n",
              "       [ 0.        ,  0.        ,  0.        ,  0.        ,  0.        ,\n",
              "         0.        ,  0.        ,  0.        ],\n",
              "       [ 0.        ,  0.        ,  0.        ,  0.        ,  0.        ,\n",
              "         0.        ,  0.        ,  0.        ]], dtype=float32)"
            ]
          },
          "metadata": {},
          "execution_count": 101
        }
      ]
    },
    {
      "cell_type": "code",
      "source": [
        "plt.imshow(B)"
      ],
      "metadata": {
        "colab": {
          "base_uri": "https://localhost:8080/",
          "height": 282
        },
        "id": "aCZv8RHwEJ6h",
        "outputId": "8373823a-cd43-4154-aa6c-2116bd2e4b2c"
      },
      "execution_count": null,
      "outputs": [
        {
          "output_type": "execute_result",
          "data": {
            "text/plain": [
              "<matplotlib.image.AxesImage at 0x7f662893fb90>"
            ]
          },
          "metadata": {},
          "execution_count": 102
        },
        {
          "output_type": "display_data",
          "data": {
            "text/plain": [
              "<Figure size 432x288 with 1 Axes>"
            ],
            "image/png": "[encoded data removed]"
          },
          "metadata": {
            "needs_background": "light"
          }
        }
      ]
    },
    {
      "cell_type": "code",
      "source": [
        "VT[0]"
      ],
      "metadata": {
        "colab": {
          "base_uri": "https://localhost:8080/"
        },
        "id": "0-C1I3UzDHPw",
        "outputId": "d741045b-8f98-45ad-963d-50e65049bdbd"
      },
      "execution_count": null,
      "outputs": [
        {
          "output_type": "execute_result",
          "data": {
            "text/plain": [
              "array([-0.        , -0.        , -0.3250577 , -0.8880738 , -0.32505766,\n",
              "       -0.        , -0.        , -0.        ], dtype=float32)"
            ]
          },
          "metadata": {},
          "execution_count": 77
        }
      ]
    },
    {
      "cell_type": "code",
      "source": [
        "from numpy import diag\n",
        "from numpy import dot\n",
        "# create m x n Sigma matrix\n",
        "Sigma = np.zeros((A.shape[0], A.shape[1]))\n",
        "# populate Sigma with n x n diagonal matrix\n",
        "Sigma[:A.shape[1], :A.shape[1]] = diag(s)\n",
        "# reconstruct matrix\n",
        "B = U[0].dot(diag(VT[0]))\n",
        "print(B)"
      ],
      "metadata": {
        "colab": {
          "base_uri": "https://localhost:8080/"
        },
        "id": "zRhE0xBoAdsi",
        "outputId": "db74cb2a-06a7-467a-8e41-00df46fc4aad"
      },
      "execution_count": null,
      "outputs": [
        {
          "output_type": "stream",
          "name": "stdout",
          "text": [
            "[ 0.         0.        -0.3250577  0.         0.         0.\n",
            "  0.         0.       ]\n"
          ]
        }
      ]
    },
    {
      "cell_type": "code",
      "source": [
        "# Reconstruct SVD\n",
        "from numpy import array\n",
        "from numpy import diag\n",
        "from numpy import dot\n",
        "from scipy.linalg import svd\n",
        "# define a matrix\n",
        "# Singular-value decomposition\n",
        "U, s, VT = svd(A)\n",
        "# create n x n Sigma matrix\n",
        "Sigma = diag(s)\n",
        "# reconstruct matrix\n",
        "B = U.dot(Sigma.dot(VT))\n",
        "print(B)"
      ],
      "metadata": {
        "colab": {
          "base_uri": "https://localhost:8080/"
        },
        "id": "QkgpwUHgAlqC",
        "outputId": "075a5458-cf04-4c6f-bc8e-aeb31ec34b0c"
      },
      "execution_count": null,
      "outputs": [
        {
          "output_type": "stream",
          "name": "stdout",
          "text": [
            "[[ 0.0000000e+00  0.0000000e+00  0.0000000e+00  0.0000000e+00\n",
            "   0.0000000e+00  0.0000000e+00  0.0000000e+00  1.0000000e+00]\n",
            " [ 0.0000000e+00  0.0000000e+00 -5.9604645e-08  1.0000000e+00\n",
            "  -5.9604645e-08  0.0000000e+00  0.0000000e+00  0.0000000e+00]\n",
            " [ 0.0000000e+00  0.0000000e+00  1.0000004e+00  0.0000000e+00\n",
            "   1.0000002e+00  0.0000000e+00  0.0000000e+00  0.0000000e+00]\n",
            " [ 0.0000000e+00  0.0000000e+00 -2.9802322e-08  9.9999988e-01\n",
            "  -2.9802322e-08  0.0000000e+00  0.0000000e+00  0.0000000e+00]\n",
            " [ 0.0000000e+00  0.0000000e+00  8.9406967e-08  9.9999988e-01\n",
            "   1.0000001e+00  0.0000000e+00  0.0000000e+00  0.0000000e+00]\n",
            " [ 0.0000000e+00  0.0000000e+00  1.0000001e+00  9.9999982e-01\n",
            "   5.9604645e-08  0.0000000e+00  0.0000000e+00  0.0000000e+00]\n",
            " [ 0.0000000e+00  0.0000000e+00 -8.9406967e-08  9.9999994e-01\n",
            "  -5.9604645e-08  0.0000000e+00  0.0000000e+00  0.0000000e+00]\n",
            " [ 0.0000000e+00  0.0000000e+00  0.0000000e+00  0.0000000e+00\n",
            "   0.0000000e+00  0.0000000e+00  0.0000000e+00  0.0000000e+00]]\n"
          ]
        }
      ]
    },
    {
      "cell_type": "code",
      "source": [
        "plt.imshow(B)"
      ],
      "metadata": {
        "colab": {
          "base_uri": "https://localhost:8080/",
          "height": 282
        },
        "id": "Ln06jhofAzkS",
        "outputId": "7beed367-1630-43d7-fa7f-d9fffbb6fdb8"
      },
      "execution_count": null,
      "outputs": [
        {
          "output_type": "execute_result",
          "data": {
            "text/plain": [
              "<matplotlib.image.AxesImage at 0x7f06bd9c57d0>"
            ]
          },
          "metadata": {},
          "execution_count": 17
        },
        {
          "output_type": "display_data",
          "data": {
            "text/plain": [
              "<Figure size 432x288 with 1 Axes>"
            ],
            "image/png": "[encoded data removed]"
          },
          "metadata": {
            "needs_background": "light"
          }
        }
      ]
    },
    {
      "cell_type": "code",
      "source": [
        "s.shape"
      ],
      "metadata": {
        "id": "gOs6TU3kA6Qa",
        "colab": {
          "base_uri": "https://localhost:8080/"
        },
        "outputId": "ff3ff111-cb74-4a91-8b65-dcdc55e3eac2"
      },
      "execution_count": null,
      "outputs": [
        {
          "output_type": "execute_result",
          "data": {
            "text/plain": [
              "(8,)"
            ]
          },
          "metadata": {},
          "execution_count": 21
        }
      ]
    },
    {
      "cell_type": "code",
      "source": [
        "print(diag(s))\n",
        "diag(s).shape"
      ],
      "metadata": {
        "colab": {
          "base_uri": "https://localhost:8080/"
        },
        "id": "fmU43lckdNuA",
        "outputId": "21c08aae-7a02-43a3-bcfe-f48eb6629bd2"
      },
      "execution_count": null,
      "outputs": [
        {
          "output_type": "stream",
          "name": "stdout",
          "text": [
            "[[2.39417    0.         0.         0.         0.         0.\n",
            "  0.         0.        ]\n",
            " [0.         1.5059713  0.         0.         0.         0.\n",
            "  0.         0.        ]\n",
            " [0.         0.         1.         0.         0.         0.\n",
            "  0.         0.        ]\n",
            " [0.         0.         0.         0.99999994 0.         0.\n",
            "  0.         0.        ]\n",
            " [0.         0.         0.         0.         0.         0.\n",
            "  0.         0.        ]\n",
            " [0.         0.         0.         0.         0.         0.\n",
            "  0.         0.        ]\n",
            " [0.         0.         0.         0.         0.         0.\n",
            "  0.         0.        ]\n",
            " [0.         0.         0.         0.         0.         0.\n",
            "  0.         0.        ]]\n"
          ]
        },
        {
          "output_type": "execute_result",
          "data": {
            "text/plain": [
              "(8, 8)"
            ]
          },
          "metadata": {},
          "execution_count": 23
        }
      ]
    },
    {
      "cell_type": "code",
      "source": [
        "C0 = U[0].reshape(8,1).dot(s[0]*(VT[0].reshape(1,8)))\n",
        "print(C0)\n",
        "plt.imshow(C0)"
      ],
      "metadata": {
        "colab": {
          "base_uri": "https://localhost:8080/",
          "height": 560
        },
        "id": "BBCbOnTBdOUH",
        "outputId": "8e5e2251-3709-494f-b413-36373b1bfe81"
      },
      "execution_count": null,
      "outputs": [
        {
          "output_type": "stream",
          "name": "stdout",
          "text": [
            "[[ 0.          0.          0.          0.          0.          0.\n",
            "   0.          0.        ]\n",
            " [ 0.          0.          0.          0.          0.          0.\n",
            "   0.          0.        ]\n",
            " [ 0.          0.         -0.77824336 -2.1261997  -0.7782433   0.\n",
            "   0.          0.        ]\n",
            " [ 0.          0.          0.          0.          0.          0.\n",
            "   0.          0.        ]\n",
            " [ 0.          0.          0.          0.          0.          0.\n",
            "   0.          0.        ]\n",
            " [ 0.          0.          0.          0.          0.          0.\n",
            "   0.          0.        ]\n",
            " [ 0.          0.          0.          0.          0.          0.\n",
            "   0.          0.        ]\n",
            " [ 0.          0.          0.          0.          0.          0.\n",
            "   0.          0.        ]]\n"
          ]
        },
        {
          "output_type": "execute_result",
          "data": {
            "text/plain": [
              "<matplotlib.image.AxesImage at 0x7f06b592a510>"
            ]
          },
          "metadata": {},
          "execution_count": 43
        },
        {
          "output_type": "display_data",
          "data": {
            "text/plain": [
              "<Figure size 432x288 with 1 Axes>"
            ],
            "image/png": "[encoded data removed]"
          },
          "metadata": {
            "needs_background": "light"
          }
        }
      ]
    },
    {
      "cell_type": "code",
      "source": [
        "C1 = U[1].reshape(8,1).dot(s[1]*(VT[1].reshape(1,8)))\n",
        "print(C1)\n",
        "plt.imshow(C1)"
      ],
      "metadata": {
        "colab": {
          "base_uri": "https://localhost:8080/",
          "height": 560
        },
        "id": "E1tS4IJSgbB0",
        "outputId": "90af96f8-dc12-4634-e450-eacd9572def6"
      },
      "execution_count": null,
      "outputs": [
        {
          "output_type": "stream",
          "name": "stdout",
          "text": [
            "[[ 0.          0.         -0.35078812  0.25679478 -0.3507881   0.\n",
            "   0.          0.        ]\n",
            " [ 0.          0.         -0.28867525  0.21132499 -0.28867522  0.\n",
            "   0.          0.        ]\n",
            " [ 0.          0.          0.          0.          0.          0.\n",
            "   0.          0.        ]\n",
            " [ 0.          0.          0.          0.          0.          0.\n",
            "   0.          0.        ]\n",
            " [ 0.          0.          0.          0.          0.          0.\n",
            "   0.          0.        ]\n",
            " [ 0.          0.          0.          0.          0.          0.\n",
            "   0.          0.        ]\n",
            " [ 0.          0.          0.          0.          0.          0.\n",
            "   0.          0.        ]\n",
            " [ 0.          0.         -0.8294289   0.60718423 -0.82942885  0.\n",
            "   0.          0.        ]]\n"
          ]
        },
        {
          "output_type": "execute_result",
          "data": {
            "text/plain": [
              "<matplotlib.image.AxesImage at 0x7f06b59118d0>"
            ]
          },
          "metadata": {},
          "execution_count": 44
        },
        {
          "output_type": "display_data",
          "data": {
            "text/plain": [
              "<Figure size 432x288 with 1 Axes>"
            ],
            "image/png": "[encoded data removed]"
          },
          "metadata": {
            "needs_background": "light"
          }
        }
      ]
    },
    {
      "cell_type": "code",
      "source": [
        "C2 = U[2].reshape(8,1).dot(s[2]*(VT[2].reshape(1,8)))\n",
        "print(C2)\n",
        "plt.imshow(C2)"
      ],
      "metadata": {
        "colab": {
          "base_uri": "https://localhost:8080/",
          "height": 560
        },
        "id": "ONszzdg_g2Hs",
        "outputId": "ac77a6f7-0471-42bf-e2e0-ae0a4596771a"
      },
      "execution_count": null,
      "outputs": [
        {
          "output_type": "stream",
          "name": "stdout",
          "text": [
            "[[ 0.0000000e+00  0.0000000e+00  0.0000000e+00  0.0000000e+00\n",
            "   0.0000000e+00  0.0000000e+00  0.0000000e+00 -2.7154106e-01]\n",
            " [ 0.0000000e+00  0.0000000e+00  0.0000000e+00  0.0000000e+00\n",
            "   0.0000000e+00  0.0000000e+00  0.0000000e+00  8.3396417e-01]\n",
            " [ 0.0000000e+00  0.0000000e+00  0.0000000e+00  0.0000000e+00\n",
            "   0.0000000e+00  0.0000000e+00  0.0000000e+00  0.0000000e+00]\n",
            " [ 0.0000000e+00  0.0000000e+00  0.0000000e+00  0.0000000e+00\n",
            "   0.0000000e+00  0.0000000e+00  0.0000000e+00 -3.2347746e-08]\n",
            " [ 0.0000000e+00  0.0000000e+00  0.0000000e+00  0.0000000e+00\n",
            "   0.0000000e+00  0.0000000e+00  0.0000000e+00  0.0000000e+00]\n",
            " [ 0.0000000e+00  0.0000000e+00  0.0000000e+00  0.0000000e+00\n",
            "   0.0000000e+00  0.0000000e+00  0.0000000e+00  2.4517682e-01]\n",
            " [ 0.0000000e+00  0.0000000e+00  0.0000000e+00  0.0000000e+00\n",
            "   0.0000000e+00  0.0000000e+00  0.0000000e+00 -3.7401646e-01]\n",
            " [ 0.0000000e+00  0.0000000e+00  0.0000000e+00  0.0000000e+00\n",
            "   0.0000000e+00  0.0000000e+00  0.0000000e+00 -1.7541164e-01]]\n"
          ]
        },
        {
          "output_type": "execute_result",
          "data": {
            "text/plain": [
              "<matplotlib.image.AxesImage at 0x7f06b5879cd0>"
            ]
          },
          "metadata": {},
          "execution_count": 45
        },
        {
          "output_type": "display_data",
          "data": {
            "text/plain": [
              "<Figure size 432x288 with 1 Axes>"
            ],
            "image/png": "[encoded data removed]"
          },
          "metadata": {
            "needs_background": "light"
          }
        }
      ]
    },
    {
      "cell_type": "code",
      "source": [
        "C3 = U[3].reshape(8,1).dot(s[3]*(VT[3].reshape(1,8)))\n",
        "print(C3)\n",
        "plt.imshow(C3)"
      ],
      "metadata": {
        "colab": {
          "base_uri": "https://localhost:8080/",
          "height": 560
        },
        "id": "gvqFjD4BhHpr",
        "outputId": "521960c1-a13a-4499-fd74-7d9be4b358ce"
      },
      "execution_count": null,
      "outputs": [
        {
          "output_type": "stream",
          "name": "stdout",
          "text": [
            "[[ 0.0000000e+00  0.0000000e+00 -2.6228833e-01  0.0000000e+00\n",
            "   2.6228836e-01  0.0000000e+00  0.0000000e+00  0.0000000e+00]\n",
            " [ 0.0000000e+00  0.0000000e+00 -2.1584579e-01  0.0000000e+00\n",
            "   2.1584581e-01  0.0000000e+00  0.0000000e+00  0.0000000e+00]\n",
            " [ 0.0000000e+00  0.0000000e+00  0.0000000e+00  0.0000000e+00\n",
            "   0.0000000e+00  0.0000000e+00  0.0000000e+00  0.0000000e+00]\n",
            " [ 0.0000000e+00  0.0000000e+00 -1.4348929e-08  0.0000000e+00\n",
            "   1.4348930e-08  0.0000000e+00  0.0000000e+00  0.0000000e+00]\n",
            " [ 0.0000000e+00  0.0000000e+00  0.0000000e+00  0.0000000e+00\n",
            "   0.0000000e+00  0.0000000e+00  0.0000000e+00  0.0000000e+00]\n",
            " [ 0.0000000e+00  0.0000000e+00 -2.4479692e-01  0.0000000e+00\n",
            "   2.4479695e-01  0.0000000e+00  0.0000000e+00  0.0000000e+00]\n",
            " [ 0.0000000e+00  0.0000000e+00 -5.3858560e-01  0.0000000e+00\n",
            "   5.3858560e-01  0.0000000e+00  0.0000000e+00  0.0000000e+00]\n",
            " [ 0.0000000e+00  0.0000000e+00  1.8605210e-01  0.0000000e+00\n",
            "  -1.8605211e-01  0.0000000e+00  0.0000000e+00  0.0000000e+00]]\n"
          ]
        },
        {
          "output_type": "execute_result",
          "data": {
            "text/plain": [
              "<matplotlib.image.AxesImage at 0x7f06b57f1150>"
            ]
          },
          "metadata": {},
          "execution_count": 46
        },
        {
          "output_type": "display_data",
          "data": {
            "text/plain": [
              "<Figure size 432x288 with 1 Axes>"
            ],
            "image/png": "[encoded data removed]"
          },
          "metadata": {
            "needs_background": "light"
          }
        }
      ]
    },
    {
      "cell_type": "code",
      "source": [
        "C4 = U[4].reshape(8,1).dot(s[4]*(VT[4].reshape(1,8)))\n",
        "print(C4)\n",
        "plt.imshow(C4)"
      ],
      "metadata": {
        "colab": {
          "base_uri": "https://localhost:8080/",
          "height": 421
        },
        "id": "Dp-aYBZChNHW",
        "outputId": "7ef391c4-820e-4f13-e863-95f5d0baad8e"
      },
      "execution_count": null,
      "outputs": [
        {
          "output_type": "stream",
          "name": "stdout",
          "text": [
            "[[0. 0. 0. 0. 0. 0. 0. 0.]\n",
            " [0. 0. 0. 0. 0. 0. 0. 0.]\n",
            " [0. 0. 0. 0. 0. 0. 0. 0.]\n",
            " [0. 0. 0. 0. 0. 0. 0. 0.]\n",
            " [0. 0. 0. 0. 0. 0. 0. 0.]\n",
            " [0. 0. 0. 0. 0. 0. 0. 0.]\n",
            " [0. 0. 0. 0. 0. 0. 0. 0.]\n",
            " [0. 0. 0. 0. 0. 0. 0. 0.]]\n"
          ]
        },
        {
          "output_type": "execute_result",
          "data": {
            "text/plain": [
              "<matplotlib.image.AxesImage at 0x7f06b57d7550>"
            ]
          },
          "metadata": {},
          "execution_count": 47
        },
        {
          "output_type": "display_data",
          "data": {
            "text/plain": [
              "<Figure size 432x288 with 1 Axes>"
            ],
            "image/png": "[encoded data removed]"
          },
          "metadata": {
            "needs_background": "light"
          }
        }
      ]
    },
    {
      "cell_type": "code",
      "source": [
        "plt.imshow(C0+C1+C2+C3)\n",
        "plt.show()\n",
        "plt.imshow(A)\n",
        "plt.show()"
      ],
      "metadata": {
        "colab": {
          "base_uri": "https://localhost:8080/",
          "height": 513
        },
        "id": "AJedUC-4hYe9",
        "outputId": "9b001e0b-3377-4331-a338-95e227909733"
      },
      "execution_count": null,
      "outputs": [
        {
          "output_type": "display_data",
          "data": {
            "text/plain": [
              "<Figure size 432x288 with 1 Axes>"
            ],
            "image/png": "[encoded data removed]"
          },
          "metadata": {
            "needs_background": "light"
          }
        },
        {
          "output_type": "display_data",
          "data": {
            "text/plain": [
              "<Figure size 432x288 with 1 Axes>"
            ],
            "image/png": "[encoded data removed]"
          },
          "metadata": {
            "needs_background": "light"
          }
        }
      ]
    },
    {
      "cell_type": "code",
      "source": [
        "VT[0].reshape(1,8)"
      ],
      "metadata": {
        "colab": {
          "base_uri": "https://localhost:8080/"
        },
        "id": "-0KoNgikd3u8",
        "outputId": "d10a1474-63c0-4f22-f9ea-c447632ddb2d"
      },
      "execution_count": null,
      "outputs": [
        {
          "output_type": "execute_result",
          "data": {
            "text/plain": [
              "array([[-0.        , -0.        , -0.3250577 , -0.8880738 , -0.32505766,\n",
              "        -0.        , -0.        , -0.        ]], dtype=float32)"
            ]
          },
          "metadata": {},
          "execution_count": 36
        }
      ]
    },
    {
      "cell_type": "code",
      "source": [
        "s[0]*(VT[0].reshape(1,8))"
      ],
      "metadata": {
        "colab": {
          "base_uri": "https://localhost:8080/"
        },
        "id": "wxMfH8kre7qU",
        "outputId": "5afdbcbc-b357-42d8-b568-fa2a92d23d45"
      },
      "execution_count": null,
      "outputs": [
        {
          "output_type": "execute_result",
          "data": {
            "text/plain": [
              "array([[-0.        , -0.        , -0.77824336, -2.1261997 , -0.7782433 ,\n",
              "        -0.        , -0.        , -0.        ]], dtype=float32)"
            ]
          },
          "metadata": {},
          "execution_count": 34
        }
      ]
    },
    {
      "cell_type": "code",
      "source": [
        "s[0]"
      ],
      "metadata": {
        "colab": {
          "base_uri": "https://localhost:8080/"
        },
        "id": "B0T_xHOXfAZb",
        "outputId": "784ceaad-b061-4383-c692-405f5aea431c"
      },
      "execution_count": null,
      "outputs": [
        {
          "output_type": "execute_result",
          "data": {
            "text/plain": [
              "2.39417"
            ]
          },
          "metadata": {},
          "execution_count": 37
        }
      ]
    },
    {
      "cell_type": "code",
      "source": [],
      "metadata": {
        "id": "IqZwD8oSfEPE"
      },
      "execution_count": null,
      "outputs": []
    }
  ]
}