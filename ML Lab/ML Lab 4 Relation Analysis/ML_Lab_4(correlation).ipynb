{
  "nbformat": 4,
  "nbformat_minor": 0,
  "metadata": {
    "colab": {
      "provenance": []
    },
    "kernelspec": {
      "name": "python3",
      "display_name": "Python 3"
    },
    "language_info": {
      "name": "python"
    }
  },
  "cells": [
    {
      "cell_type": "code",
      "execution_count": null,
      "metadata": {
        "id": "pgNN44EIVEHv"
      },
      "outputs": [],
      "source": [
        "import numpy as np\n",
        "import pandas as pd\n",
        "import matplotlib.pyplot as plt"
      ]
    },
    {
      "cell_type": "code",
      "source": [
        "df = pd.read_csv('/content/drive/MyDrive/Colab Notebooks/BDSET /Lab/Lab_4/Corr_Pearson.csv', index_col = False)"
      ],
      "metadata": {
        "id": "lIKkpDz4VMzm"
      },
      "execution_count": null,
      "outputs": []
    },
    {
      "cell_type": "code",
      "source": [
        "df.head()"
      ],
      "metadata": {
        "colab": {
          "base_uri": "https://localhost:8080/",
          "height": 206
        },
        "id": "JmbazG2YZprk",
        "outputId": "410ebd6e-9ce9-41b2-f83a-ff330b4e33ca"
      },
      "execution_count": null,
      "outputs": [
        {
          "output_type": "execute_result",
          "data": {
            "text/plain": [
              "   Unnamed: 0      x      a      b      c       d      e\n",
              "0           0  0.000  1.107  4.798  2.157  20.820 -0.316\n",
              "1           1  0.102  0.759  5.247  1.845  19.210  1.511\n",
              "2           2  0.204  1.586  4.904  1.812  18.819  3.370\n",
              "3           3  0.306  0.565  4.701  2.544  17.864  4.318\n",
              "4           4  0.408  1.698  6.377  1.927  17.619  6.000"
            ],
            "text/html": [
              "\n",
              "  <div id=\"df-aee51959-c9c8-4700-85e1-bb62580b7547\">\n",
              "    <div class=\"colab-df-container\">\n",
              "      <div>\n",
              "<style scoped>\n",
              "    .dataframe tbody tr th:only-of-type {\n",
              "        vertical-align: middle;\n",
              "    }\n",
              "\n",
              "    .dataframe tbody tr th {\n",
              "        vertical-align: top;\n",
              "    }\n",
              "\n",
              "    .dataframe thead th {\n",
              "        text-align: right;\n",
              "    }\n",
              "</style>\n",
              "<table border=\"1\" class=\"dataframe\">\n",
              "  <thead>\n",
              "    <tr style=\"text-align: right;\">\n",
              "      <th></th>\n",
              "      <th>Unnamed: 0</th>\n",
              "      <th>x</th>\n",
              "      <th>a</th>\n",
              "      <th>b</th>\n",
              "      <th>c</th>\n",
              "      <th>d</th>\n",
              "      <th>e</th>\n",
              "    </tr>\n",
              "  </thead>\n",
              "  <tbody>\n",
              "    <tr>\n",
              "      <th>0</th>\n",
              "      <td>0</td>\n",
              "      <td>0.000</td>\n",
              "      <td>1.107</td>\n",
              "      <td>4.798</td>\n",
              "      <td>2.157</td>\n",
              "      <td>20.820</td>\n",
              "      <td>-0.316</td>\n",
              "    </tr>\n",
              "    <tr>\n",
              "      <th>1</th>\n",
              "      <td>1</td>\n",
              "      <td>0.102</td>\n",
              "      <td>0.759</td>\n",
              "      <td>5.247</td>\n",
              "      <td>1.845</td>\n",
              "      <td>19.210</td>\n",
              "      <td>1.511</td>\n",
              "    </tr>\n",
              "    <tr>\n",
              "      <th>2</th>\n",
              "      <td>2</td>\n",
              "      <td>0.204</td>\n",
              "      <td>1.586</td>\n",
              "      <td>4.904</td>\n",
              "      <td>1.812</td>\n",
              "      <td>18.819</td>\n",
              "      <td>3.370</td>\n",
              "    </tr>\n",
              "    <tr>\n",
              "      <th>3</th>\n",
              "      <td>3</td>\n",
              "      <td>0.306</td>\n",
              "      <td>0.565</td>\n",
              "      <td>4.701</td>\n",
              "      <td>2.544</td>\n",
              "      <td>17.864</td>\n",
              "      <td>4.318</td>\n",
              "    </tr>\n",
              "    <tr>\n",
              "      <th>4</th>\n",
              "      <td>4</td>\n",
              "      <td>0.408</td>\n",
              "      <td>1.698</td>\n",
              "      <td>6.377</td>\n",
              "      <td>1.927</td>\n",
              "      <td>17.619</td>\n",
              "      <td>6.000</td>\n",
              "    </tr>\n",
              "  </tbody>\n",
              "</table>\n",
              "</div>\n",
              "      <button class=\"colab-df-convert\" onclick=\"convertToInteractive('df-aee51959-c9c8-4700-85e1-bb62580b7547')\"\n",
              "              title=\"Convert this dataframe to an interactive table.\"\n",
              "              style=\"display:none;\">\n",
              "        \n",
              "  <svg xmlns=\"http://www.w3.org/2000/svg\" height=\"24px\"viewBox=\"0 0 24 24\"\n",
              "       width=\"24px\">\n",
              "    <path d=\"M0 0h24v24H0V0z\" fill=\"none\"/>\n",
              "    <path d=\"M18.56 5.44l.94 2.06.94-2.06 2.06-.94-2.06-.94-.94-2.06-.94 2.06-2.06.94zm-11 1L8.5 8.5l.94-2.06 2.06-.94-2.06-.94L8.5 2.5l-.94 2.06-2.06.94zm10 10l.94 2.06.94-2.06 2.06-.94-2.06-.94-.94-2.06-.94 2.06-2.06.94z\"/><path d=\"M17.41 7.96l-1.37-1.37c-.4-.4-.92-.59-1.43-.59-.52 0-1.04.2-1.43.59L10.3 9.45l-7.72 7.72c-.78.78-.78 2.05 0 2.83L4 21.41c.39.39.9.59 1.41.59.51 0 1.02-.2 1.41-.59l7.78-7.78 2.81-2.81c.8-.78.8-2.07 0-2.86zM5.41 20L4 18.59l7.72-7.72 1.47 1.35L5.41 20z\"/>\n",
              "  </svg>\n",
              "      </button>\n",
              "      \n",
              "  <style>\n",
              "    .colab-df-container {\n",
              "      display:flex;\n",
              "      flex-wrap:wrap;\n",
              "      gap: 12px;\n",
              "    }\n",
              "\n",
              "    .colab-df-convert {\n",
              "      background-color: #E8F0FE;\n",
              "      border: none;\n",
              "      border-radius: 50%;\n",
              "      cursor: pointer;\n",
              "      display: none;\n",
              "      fill: #1967D2;\n",
              "      height: 32px;\n",
              "      padding: 0 0 0 0;\n",
              "      width: 32px;\n",
              "    }\n",
              "\n",
              "    .colab-df-convert:hover {\n",
              "      background-color: #E2EBFA;\n",
              "      box-shadow: 0px 1px 2px rgba(60, 64, 67, 0.3), 0px 1px 3px 1px rgba(60, 64, 67, 0.15);\n",
              "      fill: #174EA6;\n",
              "    }\n",
              "\n",
              "    [theme=dark] .colab-df-convert {\n",
              "      background-color: #3B4455;\n",
              "      fill: #D2E3FC;\n",
              "    }\n",
              "\n",
              "    [theme=dark] .colab-df-convert:hover {\n",
              "      background-color: #434B5C;\n",
              "      box-shadow: 0px 1px 3px 1px rgba(0, 0, 0, 0.15);\n",
              "      filter: drop-shadow(0px 1px 2px rgba(0, 0, 0, 0.3));\n",
              "      fill: #FFFFFF;\n",
              "    }\n",
              "  </style>\n",
              "\n",
              "      <script>\n",
              "        const buttonEl =\n",
              "          document.querySelector('#df-aee51959-c9c8-4700-85e1-bb62580b7547 button.colab-df-convert');\n",
              "        buttonEl.style.display =\n",
              "          google.colab.kernel.accessAllowed ? 'block' : 'none';\n",
              "\n",
              "        async function convertToInteractive(key) {\n",
              "          const element = document.querySelector('#df-aee51959-c9c8-4700-85e1-bb62580b7547');\n",
              "          const dataTable =\n",
              "            await google.colab.kernel.invokeFunction('convertToInteractive',\n",
              "                                                     [key], {});\n",
              "          if (!dataTable) return;\n",
              "\n",
              "          const docLinkHtml = 'Like what you see? Visit the ' +\n",
              "            '<a target=\"_blank\" href=https://colab.research.google.com/notebooks/data_table.ipynb>data table notebook</a>'\n",
              "            + ' to learn more about interactive tables.';\n",
              "          element.innerHTML = '';\n",
              "          dataTable['output_type'] = 'display_data';\n",
              "          await google.colab.output.renderOutput(dataTable, element);\n",
              "          const docLink = document.createElement('div');\n",
              "          docLink.innerHTML = docLinkHtml;\n",
              "          element.appendChild(docLink);\n",
              "        }\n",
              "      </script>\n",
              "    </div>\n",
              "  </div>\n",
              "  "
            ]
          },
          "metadata": {},
          "execution_count": 7
        }
      ]
    },
    {
      "cell_type": "code",
      "source": [
        "x = np.array(df.x)\n",
        "a = np.array(df.a)\n",
        "b = np.array(df.b)\n",
        "c = np.array(df.c)\n",
        "d = np.array(df.d)\n",
        "e = np.array(df.e)"
      ],
      "metadata": {
        "id": "wiT2Q-QJZuH0"
      },
      "execution_count": null,
      "outputs": []
    },
    {
      "cell_type": "code",
      "source": [
        "a"
      ],
      "metadata": {
        "colab": {
          "base_uri": "https://localhost:8080/"
        },
        "id": "IvYT7lqeaWJb",
        "outputId": "c4e84c4f-654f-4d7d-a27e-d736fcc6e7d5"
      },
      "execution_count": null,
      "outputs": [
        {
          "output_type": "execute_result",
          "data": {
            "text/plain": [
              "array([0.   , 0.102, 0.204, 0.306, 0.408, 0.51 , 0.612, 0.714, 0.816,\n",
              "       0.918, 1.02 , 1.122, 1.224, 1.327, 1.429, 1.531, 1.633, 1.735,\n",
              "       1.837, 1.939, 2.041, 2.143, 2.245, 2.347, 2.449, 2.551, 2.653,\n",
              "       2.755, 2.857, 2.959, 3.061, 3.163, 3.265, 3.367, 3.469, 3.571,\n",
              "       3.673, 3.776, 3.878, 3.98 , 4.082, 4.184, 4.286, 4.388, 4.49 ,\n",
              "       4.592, 4.694, 4.796, 4.898, 5.   ])"
            ]
          },
          "metadata": {},
          "execution_count": 10
        }
      ]
    },
    {
      "cell_type": "code",
      "source": [
        "plt.plot(x,a)\n",
        "plt.plot(x,b)\n",
        "plt.plot(x,c)\n",
        "plt.plot(x,d)\n",
        "plt.plot(x,e)"
      ],
      "metadata": {
        "colab": {
          "base_uri": "https://localhost:8080/",
          "height": 282
        },
        "id": "VhS-6isuaZQb",
        "outputId": "d23dc44d-d50a-49ca-d0ac-45e21e9b204a"
      },
      "execution_count": null,
      "outputs": [
        {
          "output_type": "execute_result",
          "data": {
            "text/plain": [
              "[<matplotlib.lines.Line2D at 0x7fd3d7122690>]"
            ]
          },
          "metadata": {},
          "execution_count": 15
        },
        {
          "output_type": "display_data",
          "data": {
            "text/plain": [
              "<Figure size 432x288 with 1 Axes>"
            ],
            "image/png": "[encoded data removed]"
          },
          "metadata": {
            "needs_background": "light"
          }
        }
      ]
    },
    {
      "cell_type": "code",
      "source": [
        "plt.plot(x,a)\n",
        "plt.plot(x,b)"
      ],
      "metadata": {
        "colab": {
          "base_uri": "https://localhost:8080/",
          "height": 282
        },
        "id": "iA7CPRZGhAAM",
        "outputId": "93cbb9cc-be26-489a-a940-832a9e322c8b"
      },
      "execution_count": null,
      "outputs": [
        {
          "output_type": "execute_result",
          "data": {
            "text/plain": [
              "[<matplotlib.lines.Line2D at 0x7fd3d7010210>]"
            ]
          },
          "metadata": {},
          "execution_count": 50
        },
        {
          "output_type": "display_data",
          "data": {
            "text/plain": [
              "<Figure size 432x288 with 1 Axes>"
            ],
            "image/png": "[encoded data removed]"
          },
          "metadata": {
            "needs_background": "light"
          }
        }
      ]
    },
    {
      "cell_type": "code",
      "source": [
        "np.sum((a-a.mean())*(b-b.mean())) / (np.sum((a-a.mean()) ** 2) * np.sum((b-b.mean()) ** 2) ) ** .5"
      ],
      "metadata": {
        "colab": {
          "base_uri": "https://localhost:8080/"
        },
        "id": "_-pAtwhvap3D",
        "outputId": "27556b7a-8717-4292-9393-f4a16a260851"
      },
      "execution_count": null,
      "outputs": [
        {
          "output_type": "execute_result",
          "data": {
            "text/plain": [
              "0.9803916650332241"
            ]
          },
          "metadata": {},
          "execution_count": 42
        }
      ]
    },
    {
      "cell_type": "code",
      "source": [
        "plt.plot(x,a)\n",
        "plt.plot(x,c)"
      ],
      "metadata": {
        "colab": {
          "base_uri": "https://localhost:8080/",
          "height": 282
        },
        "id": "XT9ttEvdhGQC",
        "outputId": "ba23b4a7-c014-4084-cf6f-fe4e163cd62c"
      },
      "execution_count": null,
      "outputs": [
        {
          "output_type": "execute_result",
          "data": {
            "text/plain": [
              "[<matplotlib.lines.Line2D at 0x7fd3d6fe8fd0>]"
            ]
          },
          "metadata": {},
          "execution_count": 51
        },
        {
          "output_type": "display_data",
          "data": {
            "text/plain": [
              "<Figure size 432x288 with 1 Axes>"
            ],
            "image/png": "[encoded data removed]"
          },
          "metadata": {
            "needs_background": "light"
          }
        }
      ]
    },
    {
      "cell_type": "code",
      "source": [
        "np.sum((a-a.mean())*(c-c.mean())) / (np.sum((a-a.mean()) ** 2) * np.sum((c-c.mean()) ** 2) ) ** .5"
      ],
      "metadata": {
        "colab": {
          "base_uri": "https://localhost:8080/"
        },
        "id": "iaHAVQ8zgnSz",
        "outputId": "1e2fb59c-c333-4410-952f-79311f29b307"
      },
      "execution_count": null,
      "outputs": [
        {
          "output_type": "execute_result",
          "data": {
            "text/plain": [
              "0.9484067082670726"
            ]
          },
          "metadata": {},
          "execution_count": 47
        }
      ]
    },
    {
      "cell_type": "code",
      "source": [
        "plt.plot(x,a)\n",
        "plt.plot(x,d)"
      ],
      "metadata": {
        "colab": {
          "base_uri": "https://localhost:8080/",
          "height": 282
        },
        "id": "Sxci3WkghKEr",
        "outputId": "56afc023-a6ef-423d-f72d-9260e784066a"
      },
      "execution_count": null,
      "outputs": [
        {
          "output_type": "execute_result",
          "data": {
            "text/plain": [
              "[<matplotlib.lines.Line2D at 0x7fd3d6f59d50>]"
            ]
          },
          "metadata": {},
          "execution_count": 52
        },
        {
          "output_type": "display_data",
          "data": {
            "text/plain": [
              "<Figure size 432x288 with 1 Axes>"
            ],
            "image/png": "[encoded data removed]"
          },
          "metadata": {
            "needs_background": "light"
          }
        }
      ]
    },
    {
      "cell_type": "code",
      "source": [
        "np.sum((a-a.mean())*(d-d.mean())) / (np.sum((a-a.mean()) ** 2) * np.sum((d-d.mean()) ** 2) ) ** .5"
      ],
      "metadata": {
        "colab": {
          "base_uri": "https://localhost:8080/"
        },
        "id": "3NoPf9N5goNT",
        "outputId": "2a684911-0a38-4afe-87d4-5c82747319a0"
      },
      "execution_count": null,
      "outputs": [
        {
          "output_type": "execute_result",
          "data": {
            "text/plain": [
              "-0.9822701009543523"
            ]
          },
          "metadata": {},
          "execution_count": 53
        }
      ]
    },
    {
      "cell_type": "code",
      "source": [
        "plt.plot(x,a)\n",
        "plt.plot(x,e)"
      ],
      "metadata": {
        "colab": {
          "base_uri": "https://localhost:8080/",
          "height": 284
        },
        "id": "kF_DeIDkhQ-D",
        "outputId": "25a63449-6620-464d-a074-5f9baae7fc48"
      },
      "execution_count": null,
      "outputs": [
        {
          "output_type": "execute_result",
          "data": {
            "text/plain": [
              "[<matplotlib.lines.Line2D at 0x7fd3d6ed61d0>]"
            ]
          },
          "metadata": {},
          "execution_count": 54
        },
        {
          "output_type": "display_data",
          "data": {
            "text/plain": [
              "<Figure size 432x288 with 1 Axes>"
            ],
            "image/png": "[encoded data removed]"
          },
          "metadata": {
            "needs_background": "light"
          }
        }
      ]
    },
    {
      "cell_type": "code",
      "source": [
        "np.sum((a-a.mean())*(e-e.mean())) / (np.sum((a-a.mean()) ** 2) * np.sum((e-e.mean()) ** 2) ) ** .5"
      ],
      "metadata": {
        "colab": {
          "base_uri": "https://localhost:8080/"
        },
        "id": "ZrRTy0lMgorb",
        "outputId": "c4222682-6d64-42c7-fd8f-acdf240bff60"
      },
      "execution_count": null,
      "outputs": [
        {
          "output_type": "execute_result",
          "data": {
            "text/plain": [
              "0.007522863378453968"
            ]
          },
          "metadata": {},
          "execution_count": 49
        }
      ]
    },
    {
      "cell_type": "code",
      "source": [
        "np.corrcoef(a,b)"
      ],
      "metadata": {
        "colab": {
          "base_uri": "https://localhost:8080/"
        },
        "id": "iivRlWjXe0rz",
        "outputId": "5bd5640e-efa9-44c1-f4a7-7b166246ea0b"
      },
      "execution_count": null,
      "outputs": [
        {
          "output_type": "execute_result",
          "data": {
            "text/plain": [
              "array([[1.        , 0.98039167],\n",
              "       [0.98039167, 1.        ]])"
            ]
          },
          "metadata": {},
          "execution_count": 55
        }
      ]
    },
    {
      "cell_type": "code",
      "source": [
        "np.corrcoef(a,c)"
      ],
      "metadata": {
        "colab": {
          "base_uri": "https://localhost:8080/"
        },
        "id": "J6YdmwtWkxIS",
        "outputId": "f50ac39a-b9fa-4b45-af2c-2f8202fc7645"
      },
      "execution_count": null,
      "outputs": [
        {
          "output_type": "execute_result",
          "data": {
            "text/plain": [
              "array([[1.        , 0.94840671],\n",
              "       [0.94840671, 1.        ]])"
            ]
          },
          "metadata": {},
          "execution_count": 58
        }
      ]
    },
    {
      "cell_type": "code",
      "source": [
        "np.corrcoef(a,d)"
      ],
      "metadata": {
        "colab": {
          "base_uri": "https://localhost:8080/"
        },
        "id": "71aKGvtpkvrR",
        "outputId": "589a3d6d-2133-4912-b5f9-2fb803258b29"
      },
      "execution_count": null,
      "outputs": [
        {
          "output_type": "execute_result",
          "data": {
            "text/plain": [
              "array([[ 1.       , -0.9822701],\n",
              "       [-0.9822701,  1.       ]])"
            ]
          },
          "metadata": {},
          "execution_count": 57
        }
      ]
    },
    {
      "cell_type": "code",
      "source": [
        "np.corrcoef(a,e)"
      ],
      "metadata": {
        "colab": {
          "base_uri": "https://localhost:8080/"
        },
        "id": "C0gdps6-krTx",
        "outputId": "899cdea4-7e98-482b-84d3-4f79f80ce8f6"
      },
      "execution_count": null,
      "outputs": [
        {
          "output_type": "execute_result",
          "data": {
            "text/plain": [
              "array([[1.        , 0.00752286],\n",
              "       [0.00752286, 1.        ]])"
            ]
          },
          "metadata": {},
          "execution_count": 56
        }
      ]
    },
    {
      "cell_type": "code",
      "source": [
        "np.append(a,[1.2])"
      ],
      "metadata": {
        "colab": {
          "base_uri": "https://localhost:8080/"
        },
        "id": "f9_8UMUekuwx",
        "outputId": "c77a76d2-3ec4-4de1-943d-d012ee7550b7"
      },
      "execution_count": null,
      "outputs": [
        {
          "output_type": "execute_result",
          "data": {
            "text/plain": [
              "array([ 1.107,  0.759,  1.586,  0.565,  1.698,  1.835,  2.361,  2.305,\n",
              "        3.186,  2.561,  2.946,  2.27 ,  3.793,  2.889,  3.976,  4.152,\n",
              "        4.282,  4.27 ,  5.467,  5.24 ,  4.473,  5.501,  5.285,  5.648,\n",
              "        6.355,  5.799,  4.867,  6.403,  6.143,  6.31 ,  7.547,  7.269,\n",
              "        7.511,  8.128,  8.2  ,  7.766,  8.359,  9.789,  8.892,  9.362,\n",
              "        7.813,  9.311,  9.415, 10.322, 10.773, 10.117, 10.878, 10.273,\n",
              "       10.836,  9.626,  1.2  ])"
            ]
          },
          "metadata": {},
          "execution_count": 64
        }
      ]
    },
    {
      "cell_type": "code",
      "source": [
        "np.append(b,[100])"
      ],
      "metadata": {
        "colab": {
          "base_uri": "https://localhost:8080/"
        },
        "id": "nKTM3k1ll4AK",
        "outputId": "5dde2a3e-35b5-4ef5-8457-2338f3cfe989"
      },
      "execution_count": null,
      "outputs": [
        {
          "output_type": "execute_result",
          "data": {
            "text/plain": [
              "array([  4.798,   5.247,   4.904,   4.701,   6.377,   6.605,   6.759,\n",
              "         6.772,   7.194,   7.357,   7.561,   8.572,   8.912,   9.136,\n",
              "         9.076,  10.972,  10.411,  11.234,  10.145,  12.308,  11.627,\n",
              "        11.991,  12.949,  13.261,  14.01 ,  13.468,  14.843,  15.148,\n",
              "        15.357,  15.687,  15.47 ,  16.977,  17.934,  16.857,  17.439,\n",
              "        17.8  ,  17.883,  19.148,  19.488,  19.34 ,  20.528,  20.465,\n",
              "        21.28 ,  21.362,  22.756,  21.966,  23.335,  23.606,  23.823,\n",
              "        23.68 , 100.   ])"
            ]
          },
          "metadata": {},
          "execution_count": 69
        }
      ]
    },
    {
      "cell_type": "code",
      "source": [
        "np.sum((np.append(a,[3])-np.append(a,[3]).mean())*(np.append(b,[-100])-np.append(b,[-100]).mean())) / (np.sum((np.append(a,[3])-np.append(a,[3]).mean()) ** 2) * np.sum((np.append(b,[-100])-np.append(b,[-100]).mean()) ** 2) ) ** .5"
      ],
      "metadata": {
        "colab": {
          "base_uri": "https://localhost:8080/"
        },
        "id": "G2NFFhGClEIx",
        "outputId": "2f8c9e3a-3b88-44a8-d3f1-397ab7f76287"
      },
      "execution_count": null,
      "outputs": [
        {
          "output_type": "execute_result",
          "data": {
            "text/plain": [
              "0.4598990913472054"
            ]
          },
          "metadata": {},
          "execution_count": 72
        }
      ]
    },
    {
      "cell_type": "code",
      "source": [
        "#So pearson calculation is sensitive to outliers\n",
        "#also it is a linear measure of relationship (association)\n",
        "#works on continuous data"
      ],
      "metadata": {
        "id": "DWx2bBI9lruR"
      },
      "execution_count": null,
      "outputs": []
    },
    {
      "cell_type": "code",
      "source": [
        "#in spearman R we compute rank\n",
        "#spearman is robust to outliers\n"
      ],
      "metadata": {
        "id": "8Wy4aBSIoF3E"
      },
      "execution_count": null,
      "outputs": []
    },
    {
      "cell_type": "code",
      "source": [
        "#These are important for dimension reduction\n",
        "#or knowing if there is any relation between two incedents / two varriables"
      ],
      "metadata": {
        "id": "cnpdm76xrs3L"
      },
      "execution_count": null,
      "outputs": []
    }
  ]
}