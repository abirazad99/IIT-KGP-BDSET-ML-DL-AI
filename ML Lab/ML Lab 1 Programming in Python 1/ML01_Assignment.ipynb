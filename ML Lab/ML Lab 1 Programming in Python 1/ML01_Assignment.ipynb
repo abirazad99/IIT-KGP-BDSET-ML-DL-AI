{
  "nbformat": 4,
  "nbformat_minor": 0,
  "metadata": {
    "colab": {
      "provenance": []
    },
    "kernelspec": {
      "name": "python3",
      "display_name": "Python 3"
    },
    "language_info": {
      "name": "python"
    }
  },
  "cells": [
    {
      "cell_type": "markdown",
      "source": [
        "#Task 1"
      ],
      "metadata": {
        "id": "Cwepk05XeuF7"
      }
    },
    {
      "cell_type": "code",
      "execution_count": null,
      "metadata": {
        "colab": {
          "base_uri": "https://localhost:8080/"
        },
        "id": "RBTHZLRIePAE",
        "outputId": "0eb0dc24-0d0c-4853-d7fe-13fdcdb810db"
      },
      "outputs": [
        {
          "output_type": "stream",
          "name": "stdout",
          "text": [
            "press the number of km traveled 5\n",
            "fare: 100\n"
          ]
        }
      ],
      "source": [
        "x = int(input(\"press the number of km traveled \"))\n",
        "if x<=12:\n",
        "    print(\"fare: 100\")\n",
        "elif x>12 and x<=16:\n",
        "  print(\"fare\", 100 + (x-12)*8)\n",
        "elif x<16 and x>=20:\n",
        "  print(\"fare:\", 100 + 32 + (x-16)*6)\n",
        "elif x>20:\n",
        "  print(\"fare\", 100+32+24+(x-20)*5)"
      ]
    },
    {
      "cell_type": "markdown",
      "source": [
        "#Task 2"
      ],
      "metadata": {
        "id": "b2kZrxF_hc-h"
      }
    },
    {
      "cell_type": "code",
      "source": [
        "M_earth = 5.972 * 10 ** 24\n",
        "R_earth = 6361 * 1000\n",
        "M_moon = 7.35 * 10 ** 22\n",
        "R_moon = 1737 * 1000\n",
        "G = 6.67408 * 10 ** (-11)\n",
        "\n",
        "print(\"g of earth:\", G * M_earth / R_earth ** 2 )\n",
        "print(\"g of moon:\", G * M_moon / R_moon ** 2 )\n"
      ],
      "metadata": {
        "colab": {
          "base_uri": "https://localhost:8080/"
        },
        "id": "Ov4M01xNf3et",
        "outputId": "56e30f06-4277-4e4d-82eb-1f71e966532c"
      },
      "execution_count": null,
      "outputs": [
        {
          "output_type": "stream",
          "name": "stdout",
          "text": [
            "g of earth: 9.850548553554304\n",
            "g of moon: 1.6258448896962678\n"
          ]
        }
      ]
    },
    {
      "cell_type": "markdown",
      "source": [
        "#Task 3"
      ],
      "metadata": {
        "id": "HKdfMPrSjNZY"
      }
    },
    {
      "cell_type": "code",
      "source": [
        "a = 1\n",
        "r = -1/3\n",
        "n = int(input(\"type the value of n \"))\n",
        "\n",
        "print(\"sum of the series: \", a*(1-r**n)/(1-r))"
      ],
      "metadata": {
        "colab": {
          "base_uri": "https://localhost:8080/"
        },
        "id": "mVCMOSKBjB72",
        "outputId": "a91124df-d159-4394-82a4-89ec8072572a"
      },
      "execution_count": null,
      "outputs": [
        {
          "output_type": "stream",
          "name": "stdout",
          "text": [
            "type the value of n 3\n",
            "sum of the series:  0.7777777777777778\n"
          ]
        }
      ]
    },
    {
      "cell_type": "markdown",
      "source": [
        "#Task 4"
      ],
      "metadata": {
        "id": "sEtH4tmn1kDn"
      }
    },
    {
      "cell_type": "code",
      "source": [
        "x = str(input(\"Enter the number \"))\n",
        "x_len = len(x)\n",
        "chk_armstrong = 0\n",
        "for i in range(x_len):\n",
        "  chk_armstrong += int(x[i]) ** x_len\n",
        "\n",
        "if int(x) == chk_armstrong:\n",
        "  print(x, \"is an armstrong number\")\n",
        "else:\n",
        "  print(x, \"is not an armstrong number\")\n",
        "#print(chk_armstrong)\n"
      ],
      "metadata": {
        "colab": {
          "base_uri": "https://localhost:8080/"
        },
        "id": "cxa4cSVUj6xf",
        "outputId": "cffa74ee-4480-4f45-ec8d-181a7013f315"
      },
      "execution_count": null,
      "outputs": [
        {
          "output_type": "stream",
          "name": "stdout",
          "text": [
            "Enter the number 1634\n",
            "1634 is an armstrong number\n"
          ]
        }
      ]
    },
    {
      "cell_type": "markdown",
      "source": [
        "#Task 5"
      ],
      "metadata": {
        "id": "NflLgszJ24YW"
      }
    },
    {
      "cell_type": "code",
      "source": [
        "n = int(input(\"Enter the number of digit \"))\n",
        "x = 10 ** (n-1)\n",
        "chk = 0\n",
        "while chk < 10:\n",
        "  x1 = x \n",
        "  digit_sum = 0\n",
        "  while x1 != 0:\n",
        "    digit_sum += int(x1 % 10)\n",
        "    x1 /= 10\n",
        "  if x % digit_sum == 0:\n",
        "    print(x)\n",
        "    chk += 1\n",
        "  x += 1\n",
        "\n",
        "\n",
        "\n"
      ],
      "metadata": {
        "colab": {
          "base_uri": "https://localhost:8080/"
        },
        "id": "8H4ViNMY1_Fb",
        "outputId": "8ac4d954-092f-453f-850f-ee773d94e548"
      },
      "execution_count": null,
      "outputs": [
        {
          "output_type": "stream",
          "name": "stdout",
          "text": [
            "Enter the number of digit 3\n",
            "100\n",
            "102\n",
            "108\n",
            "110\n",
            "111\n",
            "112\n",
            "114\n",
            "117\n",
            "120\n",
            "126\n"
          ]
        }
      ]
    },
    {
      "cell_type": "code",
      "source": [
        "# x1 = 123667\n",
        "# digit_sum = 0\n",
        "# while x1 != 0:\n",
        "#     digit_sum += int(x1 % 10)\n",
        "#     x1 /= 10\n",
        "\n",
        "# digit_sum"
      ],
      "metadata": {
        "id": "93JxYLV55dQd"
      },
      "execution_count": null,
      "outputs": []
    },
    {
      "cell_type": "markdown",
      "source": [
        "#Task 6"
      ],
      "metadata": {
        "id": "cIb4hUFK6yrZ"
      }
    },
    {
      "cell_type": "code",
      "source": [
        "x = input(\"Write a string/number \")\n",
        "x_rev = str(x[::-1])\n",
        "\n",
        "if x == x_rev:\n",
        "  print(x, \"is a palindrome\")\n",
        "else:\n",
        "  print(x, \"is not a palindrome\")"
      ],
      "metadata": {
        "colab": {
          "base_uri": "https://localhost:8080/"
        },
        "id": "jwvbcDZu5iFM",
        "outputId": "8b196a24-ce40-4a31-ba8a-c3083560d8ea"
      },
      "execution_count": null,
      "outputs": [
        {
          "output_type": "stream",
          "name": "stdout",
          "text": [
            "Write a string/number 1234321\n",
            "1234321 is a palindrome\n"
          ]
        }
      ]
    },
    {
      "cell_type": "markdown",
      "source": [
        "#Task 7"
      ],
      "metadata": {
        "id": "1reQOl-p8RpA"
      }
    },
    {
      "cell_type": "code",
      "source": [
        "alpha = 0.306\n",
        "Ts = 6.96 * 10 ** 8\n",
        "Rs = 6.96 * 10 ** 8\n",
        "D = 1.496 * 10 ** 11\n",
        "sigma = 1.2\n",
        "\n",
        "Tp =  Ts * ((Rs * (((1-alpha)/sigma) ** 0.5) / (2 * D)) ** 0.5)\n",
        "Tp"
      ],
      "metadata": {
        "colab": {
          "base_uri": "https://localhost:8080/"
        },
        "id": "GwlOVQA_7WaO",
        "outputId": "0f469725-c8d3-450b-dbda-b7e1f63a62eb"
      },
      "execution_count": null,
      "outputs": [
        {
          "output_type": "execute_result",
          "data": {
            "text/plain": [
              "29273700.208881717"
            ]
          },
          "metadata": {},
          "execution_count": 48
        }
      ]
    },
    {
      "cell_type": "markdown",
      "source": [
        "#Task 8"
      ],
      "metadata": {
        "id": "djntMqJk9fF1"
      }
    },
    {
      "cell_type": "code",
      "source": [
        "n = int(input())"
      ],
      "metadata": {
        "id": "MxeGHx2B9VMo"
      },
      "execution_count": null,
      "outputs": []
    }
  ]
}