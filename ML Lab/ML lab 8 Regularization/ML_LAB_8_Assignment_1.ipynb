{
  "nbformat": 4,
  "nbformat_minor": 0,
  "metadata": {
    "colab": {
      "provenance": []
    },
    "kernelspec": {
      "name": "python3",
      "display_name": "Python 3"
    },
    "language_info": {
      "name": "python"
    }
  },
  "cells": [
    {
      "cell_type": "code",
      "execution_count": null,
      "metadata": {
        "id": "MdPUuXcZ-Oyc"
      },
      "outputs": [],
      "source": [
        "import numpy as np\n",
        "import pandas as pd\n",
        "import matplotlib.pyplot as plt\n",
        "\n",
        "from sklearn.preprocessing import StandardScaler\n",
        "from sklearn.pipeline import Pipeline\n",
        "from sklearn.linear_model import LinearRegression\n",
        "from sklearn.preprocessing import PolynomialFeatures\n",
        "from sklearn.metrics import r2_score\n",
        "from sklearn.model_selection import KFold\n",
        "\n"
      ]
    },
    {
      "cell_type": "code",
      "source": [
        "from google.colab import drive\n",
        "drive.mount('/content/drive')"
      ],
      "metadata": {
        "colab": {
          "base_uri": "https://localhost:8080/"
        },
        "id": "1eZp3DL5-PWy",
        "outputId": "632b9c30-42d9-4752-9505-1ab1aaf25675"
      },
      "execution_count": null,
      "outputs": [
        {
          "output_type": "stream",
          "name": "stdout",
          "text": [
            "Drive already mounted at /content/drive; to attempt to forcibly remount, call drive.mount(\"/content/drive\", force_remount=True).\n"
          ]
        }
      ]
    },
    {
      "cell_type": "code",
      "source": [
        "df = pd.read_csv('/content/drive/MyDrive/Colab Notebooks/BDSET /Lab/Lab_8/dataset 1.csv')\n",
        "df.head()"
      ],
      "metadata": {
        "colab": {
          "base_uri": "https://localhost:8080/",
          "height": 206
        },
        "id": "3HSCm4zv-SWQ",
        "outputId": "763488e0-2132-4fe4-de7d-ea84c26650ca"
      },
      "execution_count": null,
      "outputs": [
        {
          "output_type": "execute_result",
          "data": {
            "text/plain": [
              "         X1        X2\n",
              "0  0.007486  2.420864\n",
              "1  0.013216  2.112454\n",
              "2  0.013879  2.122164\n",
              "3  0.019414  1.756409\n",
              "4  0.022808  2.342029"
            ],
            "text/html": [
              "\n",
              "  <div id=\"df-a09fed64-b527-446d-b232-c254dd328ab7\">\n",
              "    <div class=\"colab-df-container\">\n",
              "      <div>\n",
              "<style scoped>\n",
              "    .dataframe tbody tr th:only-of-type {\n",
              "        vertical-align: middle;\n",
              "    }\n",
              "\n",
              "    .dataframe tbody tr th {\n",
              "        vertical-align: top;\n",
              "    }\n",
              "\n",
              "    .dataframe thead th {\n",
              "        text-align: right;\n",
              "    }\n",
              "</style>\n",
              "<table border=\"1\" class=\"dataframe\">\n",
              "  <thead>\n",
              "    <tr style=\"text-align: right;\">\n",
              "      <th></th>\n",
              "      <th>X1</th>\n",
              "      <th>X2</th>\n",
              "    </tr>\n",
              "  </thead>\n",
              "  <tbody>\n",
              "    <tr>\n",
              "      <th>0</th>\n",
              "      <td>0.007486</td>\n",
              "      <td>2.420864</td>\n",
              "    </tr>\n",
              "    <tr>\n",
              "      <th>1</th>\n",
              "      <td>0.013216</td>\n",
              "      <td>2.112454</td>\n",
              "    </tr>\n",
              "    <tr>\n",
              "      <th>2</th>\n",
              "      <td>0.013879</td>\n",
              "      <td>2.122164</td>\n",
              "    </tr>\n",
              "    <tr>\n",
              "      <th>3</th>\n",
              "      <td>0.019414</td>\n",
              "      <td>1.756409</td>\n",
              "    </tr>\n",
              "    <tr>\n",
              "      <th>4</th>\n",
              "      <td>0.022808</td>\n",
              "      <td>2.342029</td>\n",
              "    </tr>\n",
              "  </tbody>\n",
              "</table>\n",
              "</div>\n",
              "      <button class=\"colab-df-convert\" onclick=\"convertToInteractive('df-a09fed64-b527-446d-b232-c254dd328ab7')\"\n",
              "              title=\"Convert this dataframe to an interactive table.\"\n",
              "              style=\"display:none;\">\n",
              "        \n",
              "  <svg xmlns=\"http://www.w3.org/2000/svg\" height=\"24px\"viewBox=\"0 0 24 24\"\n",
              "       width=\"24px\">\n",
              "    <path d=\"M0 0h24v24H0V0z\" fill=\"none\"/>\n",
              "    <path d=\"M18.56 5.44l.94 2.06.94-2.06 2.06-.94-2.06-.94-.94-2.06-.94 2.06-2.06.94zm-11 1L8.5 8.5l.94-2.06 2.06-.94-2.06-.94L8.5 2.5l-.94 2.06-2.06.94zm10 10l.94 2.06.94-2.06 2.06-.94-2.06-.94-.94-2.06-.94 2.06-2.06.94z\"/><path d=\"M17.41 7.96l-1.37-1.37c-.4-.4-.92-.59-1.43-.59-.52 0-1.04.2-1.43.59L10.3 9.45l-7.72 7.72c-.78.78-.78 2.05 0 2.83L4 21.41c.39.39.9.59 1.41.59.51 0 1.02-.2 1.41-.59l7.78-7.78 2.81-2.81c.8-.78.8-2.07 0-2.86zM5.41 20L4 18.59l7.72-7.72 1.47 1.35L5.41 20z\"/>\n",
              "  </svg>\n",
              "      </button>\n",
              "      \n",
              "  <style>\n",
              "    .colab-df-container {\n",
              "      display:flex;\n",
              "      flex-wrap:wrap;\n",
              "      gap: 12px;\n",
              "    }\n",
              "\n",
              "    .colab-df-convert {\n",
              "      background-color: #E8F0FE;\n",
              "      border: none;\n",
              "      border-radius: 50%;\n",
              "      cursor: pointer;\n",
              "      display: none;\n",
              "      fill: #1967D2;\n",
              "      height: 32px;\n",
              "      padding: 0 0 0 0;\n",
              "      width: 32px;\n",
              "    }\n",
              "\n",
              "    .colab-df-convert:hover {\n",
              "      background-color: #E2EBFA;\n",
              "      box-shadow: 0px 1px 2px rgba(60, 64, 67, 0.3), 0px 1px 3px 1px rgba(60, 64, 67, 0.15);\n",
              "      fill: #174EA6;\n",
              "    }\n",
              "\n",
              "    [theme=dark] .colab-df-convert {\n",
              "      background-color: #3B4455;\n",
              "      fill: #D2E3FC;\n",
              "    }\n",
              "\n",
              "    [theme=dark] .colab-df-convert:hover {\n",
              "      background-color: #434B5C;\n",
              "      box-shadow: 0px 1px 3px 1px rgba(0, 0, 0, 0.15);\n",
              "      filter: drop-shadow(0px 1px 2px rgba(0, 0, 0, 0.3));\n",
              "      fill: #FFFFFF;\n",
              "    }\n",
              "  </style>\n",
              "\n",
              "      <script>\n",
              "        const buttonEl =\n",
              "          document.querySelector('#df-a09fed64-b527-446d-b232-c254dd328ab7 button.colab-df-convert');\n",
              "        buttonEl.style.display =\n",
              "          google.colab.kernel.accessAllowed ? 'block' : 'none';\n",
              "\n",
              "        async function convertToInteractive(key) {\n",
              "          const element = document.querySelector('#df-a09fed64-b527-446d-b232-c254dd328ab7');\n",
              "          const dataTable =\n",
              "            await google.colab.kernel.invokeFunction('convertToInteractive',\n",
              "                                                     [key], {});\n",
              "          if (!dataTable) return;\n",
              "\n",
              "          const docLinkHtml = 'Like what you see? Visit the ' +\n",
              "            '<a target=\"_blank\" href=https://colab.research.google.com/notebooks/data_table.ipynb>data table notebook</a>'\n",
              "            + ' to learn more about interactive tables.';\n",
              "          element.innerHTML = '';\n",
              "          dataTable['output_type'] = 'display_data';\n",
              "          await google.colab.output.renderOutput(dataTable, element);\n",
              "          const docLink = document.createElement('div');\n",
              "          docLink.innerHTML = docLinkHtml;\n",
              "          element.appendChild(docLink);\n",
              "        }\n",
              "      </script>\n",
              "    </div>\n",
              "  </div>\n",
              "  "
            ]
          },
          "metadata": {},
          "execution_count": 110
        }
      ]
    },
    {
      "cell_type": "code",
      "source": [
        "plt.scatter(df.X1,df.X2)"
      ],
      "metadata": {
        "colab": {
          "base_uri": "https://localhost:8080/",
          "height": 282
        },
        "id": "p-nVGlH2-ZPB",
        "outputId": "d48f30dd-e69d-4172-ad53-9c79b952cc19"
      },
      "execution_count": null,
      "outputs": [
        {
          "output_type": "execute_result",
          "data": {
            "text/plain": [
              "<matplotlib.collections.PathCollection at 0x7f648bad98d0>"
            ]
          },
          "metadata": {},
          "execution_count": 111
        },
        {
          "output_type": "display_data",
          "data": {
            "text/plain": [
              "<Figure size 432x288 with 1 Axes>"
            ],
            "image/png": "[encoded data removed]"
          },
          "metadata": {
            "needs_background": "light"
          }
        }
      ]
    },
    {
      "cell_type": "code",
      "source": [
        "x = df[['X1']].to_numpy()\n",
        "y = df[['X2']].to_numpy()"
      ],
      "metadata": {
        "id": "pKcZpYo1-eb6"
      },
      "execution_count": null,
      "outputs": []
    },
    {
      "cell_type": "code",
      "source": [
        "from sklearn.preprocessing import PolynomialFeatures\n",
        "from sklearn.linear_model import LinearRegression\n",
        "\n"
      ],
      "metadata": {
        "id": "c-KFUpWpksvP"
      },
      "execution_count": null,
      "outputs": []
    },
    {
      "cell_type": "code",
      "source": [
        "from sklearn.model_selection import KFold\n",
        "kf = KFold(n_splits=5, random_state = None)\n",
        "\n",
        "for train_index, test_index in kf.split(x):\n",
        "  print(\"Train:\", train_index, \"Validation:\",test_index)\n",
        "  x_train, x_test = x[train_index], x[test_index]\n",
        "  y_train, y_test = y[train_index], y[test_index]\n",
        "\n",
        "  poly = PolynomialFeatures(degree = 2, include_bias = True)\n",
        "  x_train_trans = poly.fit_transform(x_train)\n",
        "  x_test_trans = poly.transform(x_test)\n",
        "\n",
        "  \n"
      ],
      "metadata": {
        "id": "smjDtRfO-gV5",
        "colab": {
          "base_uri": "https://localhost:8080/"
        },
        "outputId": "b2f207f8-c992-48c4-89d8-093ce07fad95"
      },
      "execution_count": null,
      "outputs": [
        {
          "output_type": "stream",
          "name": "stdout",
          "text": [
            "Train: [20 21 22 23 24 25 26 27 28 29 30 31 32 33 34 35 36 37 38 39 40 41 42 43\n",
            " 44 45 46 47 48 49 50 51 52 53 54 55 56 57 58 59 60 61 62 63 64 65 66 67\n",
            " 68 69 70 71 72 73 74 75 76 77 78 79 80 81 82 83 84 85 86 87 88 89 90 91\n",
            " 92 93 94 95 96 97 98 99] Validation: [ 0  1  2  3  4  5  6  7  8  9 10 11 12 13 14 15 16 17 18 19]\n",
            "Train: [ 0  1  2  3  4  5  6  7  8  9 10 11 12 13 14 15 16 17 18 19 40 41 42 43\n",
            " 44 45 46 47 48 49 50 51 52 53 54 55 56 57 58 59 60 61 62 63 64 65 66 67\n",
            " 68 69 70 71 72 73 74 75 76 77 78 79 80 81 82 83 84 85 86 87 88 89 90 91\n",
            " 92 93 94 95 96 97 98 99] Validation: [20 21 22 23 24 25 26 27 28 29 30 31 32 33 34 35 36 37 38 39]\n",
            "Train: [ 0  1  2  3  4  5  6  7  8  9 10 11 12 13 14 15 16 17 18 19 20 21 22 23\n",
            " 24 25 26 27 28 29 30 31 32 33 34 35 36 37 38 39 60 61 62 63 64 65 66 67\n",
            " 68 69 70 71 72 73 74 75 76 77 78 79 80 81 82 83 84 85 86 87 88 89 90 91\n",
            " 92 93 94 95 96 97 98 99] Validation: [40 41 42 43 44 45 46 47 48 49 50 51 52 53 54 55 56 57 58 59]\n",
            "Train: [ 0  1  2  3  4  5  6  7  8  9 10 11 12 13 14 15 16 17 18 19 20 21 22 23\n",
            " 24 25 26 27 28 29 30 31 32 33 34 35 36 37 38 39 40 41 42 43 44 45 46 47\n",
            " 48 49 50 51 52 53 54 55 56 57 58 59 80 81 82 83 84 85 86 87 88 89 90 91\n",
            " 92 93 94 95 96 97 98 99] Validation: [60 61 62 63 64 65 66 67 68 69 70 71 72 73 74 75 76 77 78 79]\n",
            "Train: [ 0  1  2  3  4  5  6  7  8  9 10 11 12 13 14 15 16 17 18 19 20 21 22 23\n",
            " 24 25 26 27 28 29 30 31 32 33 34 35 36 37 38 39 40 41 42 43 44 45 46 47\n",
            " 48 49 50 51 52 53 54 55 56 57 58 59 60 61 62 63 64 65 66 67 68 69 70 71\n",
            " 72 73 74 75 76 77 78 79] Validation: [80 81 82 83 84 85 86 87 88 89 90 91 92 93 94 95 96 97 98 99]\n"
          ]
        }
      ]
    },
    {
      "cell_type": "code",
      "source": [
        "x_train.shape"
      ],
      "metadata": {
        "colab": {
          "base_uri": "https://localhost:8080/"
        },
        "id": "cwcTNxYnj83m",
        "outputId": "9b4cadd7-926d-4447-82e1-7e601ed96a0c"
      },
      "execution_count": null,
      "outputs": [
        {
          "output_type": "execute_result",
          "data": {
            "text/plain": [
              "(80, 1)"
            ]
          },
          "metadata": {},
          "execution_count": 115
        }
      ]
    },
    {
      "cell_type": "code",
      "source": [
        "from sklearn.preprocessing import StandardScaler\n",
        "from sklearn.pipeline import Pipeline\n",
        "from sklearn.linear_model import LinearRegression\n",
        "from sklearn.preprocessing import PolynomialFeatures\n",
        "from sklearn.metrics import r2_score\n",
        "\n",
        "\n",
        "\n",
        "def polynomial_regression(degree):\n",
        "  scores = []\n",
        "  kf = KFold(n_splits=5, shuffle = True, random_state =2)\n",
        "\n",
        "  for train_index, test_index in kf.split(x):\n",
        "    # print(\"Train:\", train_index, \"Validation:\",test_index)\n",
        "    x_train, x_test = x[train_index], x[test_index]\n",
        "    y_train, y_test = y[train_index], y[test_index]\n",
        "\n",
        "    poly = PolynomialFeatures(degree = 1, include_bias = True)\n",
        "    x_train_trans = poly.fit_transform(x_train)\n",
        "    x_test_trans = poly.transform(x_test)\n",
        "\n",
        "    X_new = np.linspace(0,1,100).reshape(100,1)\n",
        "    X_new_poly = poly.transform(X_new)\n",
        "    polybig_features = PolynomialFeatures(degree = degree, include_bias = False)\n",
        "    std_scaler = StandardScaler()\n",
        "    lin_reg = LinearRegression()\n",
        "    polynomial_regression = Pipeline([\n",
        "        (\"poly_features\", polybig_features),\n",
        "        (\"std_scaler\", std_scaler),\n",
        "        (\"lin_reg\", lin_reg),\n",
        "    ])\n",
        "    # # print(x_train_trans)\n",
        "    polynomial_regression.fit(x_train_trans, y_train)\n",
        "\n",
        "    # #for plot\n",
        "    # y_newbig = polynomial_regression.predict(X_new_poly)\n",
        "    # plt.plot(X_new, y_newbig,'r', label=\"Degree \" + str(degree), linewidth=2)\n",
        "    # plt.plot(x_train, y_train, \"b.\", linewidth=3)\n",
        "    # plt.plot(x_test, y_test, \"g.\", linewidth=3)\n",
        "    # plt.legend(loc=\"upper left\")\n",
        "    # plt.xlabel(\"X\")\n",
        "    # plt.ylabel(\"y\")\n",
        "    # plt.axis([0, 1, -2, 4])\n",
        "    # plt.show()\n",
        "    # #for plot\n",
        "\n",
        "\n",
        "    y_pred = polynomial_regression.predict(x_test_trans)\n",
        "    scores.append(r2_score(y_test, y_pred))\n",
        "  # print(scores)\n",
        "  # print(np.average(scores))\n",
        "  return np.average(scores)"
      ],
      "metadata": {
        "id": "54O7Z7jtiFzv"
      },
      "execution_count": null,
      "outputs": []
    },
    {
      "cell_type": "code",
      "source": [
        "scores_for_degrees = []\n",
        "for i in range(1,51):\n",
        "  scores_for_degrees.append(polynomial_regression(i))\n",
        "  "
      ],
      "metadata": {
        "id": "uTGYVbVslUUp"
      },
      "execution_count": null,
      "outputs": []
    },
    {
      "cell_type": "code",
      "source": [
        "for i in range(50):\n",
        "  print(\"For degree\", i+1, \":\", scores_for_degrees[i])"
      ],
      "metadata": {
        "colab": {
          "base_uri": "https://localhost:8080/"
        },
        "id": "T63rQgDOndNw",
        "outputId": "487bdbec-eba2-4073-8bfb-1db952cbd09d"
      },
      "execution_count": null,
      "outputs": [
        {
          "output_type": "stream",
          "name": "stdout",
          "text": [
            "For degree 1 : -0.14221300975161064\n",
            "For degree 2 : 0.3708716498377843\n",
            "For degree 3 : 0.8009715037512825\n",
            "For degree 4 : 0.8528545380243779\n",
            "For degree 5 : 0.9505909579220324\n",
            "For degree 6 : 0.9501629749185152\n",
            "For degree 7 : 0.9528732437623374\n",
            "For degree 8 : 0.9516852875961057\n",
            "For degree 9 : 0.9507014368200487\n",
            "For degree 10 : 0.9504460447765067\n",
            "For degree 11 : 0.9498083935873378\n",
            "For degree 12 : 0.9473647879633293\n",
            "For degree 13 : 0.9446851405778386\n",
            "For degree 14 : 0.943602280622318\n",
            "For degree 15 : 0.9443556796992064\n",
            "For degree 16 : 0.9417747442142943\n",
            "For degree 17 : 0.9369384974388144\n",
            "For degree 18 : 0.9349590769546356\n",
            "For degree 19 : 0.9301029609749228\n",
            "For degree 20 : 0.9106801475279725\n",
            "For degree 21 : 0.9098182829332023\n",
            "For degree 22 : 0.9384632063442773\n",
            "For degree 23 : 0.915340373986114\n",
            "For degree 24 : 0.9295415068686577\n",
            "For degree 25 : 0.9022208465797409\n",
            "For degree 26 : 0.9250260749977954\n",
            "For degree 27 : 0.884923622571535\n",
            "For degree 28 : 0.8887283308194516\n",
            "For degree 29 : 0.9188428099344307\n",
            "For degree 30 : 0.9219004940561817\n",
            "For degree 31 : 0.7975758452189744\n",
            "For degree 32 : 0.5946217998973282\n",
            "For degree 33 : 0.6533730721006796\n",
            "For degree 34 : 0.5045933885681417\n",
            "For degree 35 : 0.9085468197128843\n",
            "For degree 36 : 0.8808983583173047\n",
            "For degree 37 : 0.7646505613914549\n",
            "For degree 38 : 0.8467420804119439\n",
            "For degree 39 : 0.91850108916331\n",
            "For degree 40 : 0.6932578588874223\n",
            "For degree 41 : 0.6513474124575431\n",
            "For degree 42 : 0.2346595865404988\n",
            "For degree 43 : 0.5960987912483834\n",
            "For degree 44 : 0.6278922347297472\n",
            "For degree 45 : 0.0684019786048273\n",
            "For degree 46 : 0.6295378756756047\n",
            "For degree 47 : -12.090422474442395\n",
            "For degree 48 : -2.65896081727208\n",
            "For degree 49 : -13.835411428416544\n",
            "For degree 50 : -6.763022763034828\n"
          ]
        }
      ]
    },
    {
      "cell_type": "code",
      "source": [
        "polynomial_regression(42)"
      ],
      "metadata": {
        "colab": {
          "base_uri": "https://localhost:8080/"
        },
        "id": "rBSnZIxDlXxk",
        "outputId": "3f633627-7d1a-4c7a-a775-663211253301"
      },
      "execution_count": null,
      "outputs": [
        {
          "output_type": "execute_result",
          "data": {
            "text/plain": [
              "0.2346595865404988"
            ]
          },
          "metadata": {},
          "execution_count": 119
        }
      ]
    },
    {
      "cell_type": "code",
      "source": [],
      "metadata": {
        "id": "ue4UvTaJlvSU"
      },
      "execution_count": null,
      "outputs": []
    }
  ]
}