{
  "nbformat": 4,
  "nbformat_minor": 0,
  "metadata": {
    "colab": {
      "provenance": []
    },
    "kernelspec": {
      "name": "python3",
      "display_name": "Python 3"
    },
    "language_info": {
      "name": "python"
    }
  },
  "cells": [
    {
      "cell_type": "code",
      "execution_count": null,
      "metadata": {
        "id": "yXFxG_5GjmTH"
      },
      "outputs": [],
      "source": [
        "import numpy as np\n",
        "import pandas as pd\n",
        "import matplotlib.pyplot as plt\n"
      ]
    },
    {
      "cell_type": "code",
      "source": [
        "from google.colab import drive\n",
        "drive.mount('/content/drive')"
      ],
      "metadata": {
        "id": "JsXq3TZHlODq"
      },
      "execution_count": null,
      "outputs": []
    },
    {
      "cell_type": "code",
      "source": [
        "df = pd.read_csv('/content/drive/MyDrive/Colab Notebooks/BDSET /Lab/Lab_8/dataset 1.csv')\n",
        "df.head()"
      ],
      "metadata": {
        "id": "0ObFwLK6lRlC"
      },
      "execution_count": null,
      "outputs": []
    },
    {
      "cell_type": "code",
      "source": [
        "plt.scatter(df.X1,df.X2)"
      ],
      "metadata": {
        "id": "NSgXZfkWlfFB"
      },
      "execution_count": null,
      "outputs": []
    },
    {
      "cell_type": "code",
      "source": [
        "from sklearn.model_selection import train_test_split\n",
        "\n",
        "X = df[['X1']].to_numpy()\n",
        "Y = df[['X2']].to_numpy()\n",
        "\n",
        "X_train, x_test, Y_train, y_test = train_test_split(X, Y, test_size = 0.2)"
      ],
      "metadata": {
        "id": "tJWx9cilljIA"
      },
      "execution_count": null,
      "outputs": []
    },
    {
      "cell_type": "code",
      "source": [
        "plt.scatter(X_train,Y_train)\n",
        "plt.scatter(x_test,y_test)"
      ],
      "metadata": {
        "id": "QlhLUERwmwbA"
      },
      "execution_count": null,
      "outputs": []
    },
    {
      "cell_type": "code",
      "source": [
        "df['X1']"
      ],
      "metadata": {
        "id": "h01Zu8Oam9LX"
      },
      "execution_count": null,
      "outputs": []
    },
    {
      "cell_type": "code",
      "source": [
        "df[['X1']]"
      ],
      "metadata": {
        "id": "DFqI_7nKntqf"
      },
      "execution_count": null,
      "outputs": []
    },
    {
      "cell_type": "code",
      "source": [
        "from sklearn.linear_model import LinearRegression\n",
        "from sklearn.metrics import r2_score\n",
        "lr = LinearRegression()\n",
        "\n",
        "\n",
        "\n",
        "lr.fit(np.array(X_train).reshape(-1,1), np.array(Y_train).reshape(-1,1))\n",
        "y_pred = lr.predict(np.array(x_test).reshape(-1,1))\n",
        "print(r2_score(y_test,y_pred))\n",
        "plt.plot(np.array(X_train).reshape(-1,1), lr.predict(np.array(X_train).reshape(-1,1)))\n",
        "plt.scatter(df.X1,df.X2)\n"
      ],
      "metadata": {
        "id": "bBpKH6lXnyo-"
      },
      "execution_count": null,
      "outputs": []
    },
    {
      "cell_type": "code",
      "source": [
        "# # Fitting Linear Regression to the dataset\n",
        "# from sklearn.linear_model import LinearRegression\n",
        "# lin = LinearRegression()\n",
        "  \n",
        "# lin.fit(X, Y)"
      ],
      "metadata": {
        "id": "5EAJCIRvsIis"
      },
      "execution_count": null,
      "outputs": []
    },
    {
      "cell_type": "code",
      "source": [
        "# # Fitting Polynomial Regression to the dataset\n",
        "# from sklearn.preprocessing import PolynomialFeatures\n",
        "  \n",
        "# poly = PolynomialFeatures(degree = 3)\n",
        "# X_poly = poly.fit_transform(X)\n",
        "  \n",
        "# poly.fit(X_poly, Y)\n",
        "# lin2 = LinearRegression()\n",
        "# lin2.fit(X_poly, Y)"
      ],
      "metadata": {
        "id": "VzrMt7VfoON4"
      },
      "execution_count": null,
      "outputs": []
    },
    {
      "cell_type": "code",
      "source": [
        "# # Visualising the Linear Regression results\n",
        "# plt.scatter(X, Y, color = 'blue')\n",
        "  \n",
        "# plt.plot(X, lin.predict(X), color = 'red')\n",
        "# plt.title('Linear Regression')\n",
        "# plt.xlabel('Temperature')\n",
        "# plt.ylabel('Pressure')\n",
        "  \n",
        "# plt.show()"
      ],
      "metadata": {
        "id": "2-LRUKmprvzt"
      },
      "execution_count": null,
      "outputs": []
    },
    {
      "cell_type": "code",
      "source": [
        "\n",
        "# # Fitting Polynomial Regression to the dataset\n",
        "# from sklearn.preprocessing import PolynomialFeatures\n",
        "  \n",
        "# poly = PolynomialFeatures(degree = 4)\n",
        "# X_poly = poly.fit_transform(X)\n",
        "  \n",
        "# poly.fit(X_poly, y)\n",
        "# lin2 = LinearRegression()\n",
        "# lin2.fit(X_poly, y)"
      ],
      "metadata": {
        "id": "ppg0bWJFr8mc"
      },
      "execution_count": null,
      "outputs": []
    },
    {
      "cell_type": "code",
      "source": [
        "from sklearn.model_selection import train_test_split\n",
        "\n",
        "X = df[['X1']].to_numpy()\n",
        "Y = df[['X2']].to_numpy()\n",
        "\n",
        "X_train, x_test, Y_train, y_test = train_test_split(X, Y, test_size = 0.2)"
      ],
      "metadata": {
        "id": "ue9zMO8dvgbS"
      },
      "execution_count": null,
      "outputs": []
    },
    {
      "cell_type": "code",
      "source": [
        "from sklearn.preprocessing import PolynomialFeatures\n",
        "from sklearn.linear_model import LinearRegression\n",
        "\n",
        "poly = PolynomialFeatures(degree = 2, include_bias = True)\n",
        "x_train_trans = poly.fit_transform(X_train)\n",
        "x_test_trans = poly.transform(x_test)\n",
        "\n",
        "lr = LinearRegression()\n",
        "lr.fit(x_train_trans, Y_train)\n",
        "y_pred = lr.predict(x_test_trans)\n",
        "\n",
        "\n",
        "print(r2_score(y_test, y_pred))"
      ],
      "metadata": {
        "id": "1bk6NpNcsREk"
      },
      "execution_count": null,
      "outputs": []
    },
    {
      "cell_type": "code",
      "source": [
        "from sklearn.preprocessing import PolynomialFeatures\n",
        "poly = PolynomialFeatures(degree= 30, include_bias = True)\n",
        "x_train_trans = poly.fit_transform(X_train)\n",
        "x_test_trans = poly.transform(x_test)\n",
        "\n",
        "lr = LinearRegression()\n",
        "lr.fit(x_train_trans, Y_train)\n",
        "y_pred = lr.predict(x_test_trans)\n",
        "print(r2_score(y_test, y_pred))\n",
        "\n",
        "X_new = np.linspace(0, 1, 200).reshape(200,1)\n",
        "x_new_poly  = poly.transform(X_new)\n",
        "y_new = lr.predict(x_new_poly)\n",
        "\n",
        "plt.plot(X_new, y_new, 'r-', linewidth = 2, label = 'Predictions')\n",
        "plt.plot(X_train, Y_train, \"b.\", label = 'Training point')\n",
        "plt.plot(x_test, y_test, \"g.\", label = 'Testing point')\n",
        "plt.xlabel(\"X\")\n",
        "plt.ylabel(\"y\")\n",
        "plt.legend()\n",
        "plt.show()"
      ],
      "metadata": {
        "id": "galXUZO3t6Ts"
      },
      "execution_count": null,
      "outputs": []
    },
    {
      "cell_type": "code",
      "source": [
        "from sklearn.preprocessing import StandardScaler\n",
        "from sklearn.pipeline import Pipeline\n",
        "\n",
        "def polynomial_regression(degree):\n",
        "  X_new = np.linspace(0, 1, 100).reshape(100, 1)\n",
        "  X_new_poly = poly.transform(X_new)\n",
        "  polybig_features = PolynomialFeatures(degree= degree, include_bias=False)\n",
        "  std_scaler = StandardScaler()\n",
        "  lin_reg = LinearRegression()\n",
        "  polynomial_regression = Pipeline([\n",
        "      (\"poly_features\", polybig_features),\n",
        "      (\"std_scaler\", std_scaler),\n",
        "      (\"lin_reg\", lin_reg),\n",
        "      ])\n",
        "  polynomial_regression.fit(x_train_trans, Y_train)\n",
        "\n",
        "  y_newbig = polynomial_regression.predict(X_new_poly)\n",
        "\n",
        "  plt.plot(X_new, y_newbig, 'r', label = \"Degree\" + str(degree), linewidth = 2)\n",
        "  plt.plot(X_train, Y_train, \"b.\", linewidth = 3)\n",
        "  plt.plot(x_test, y_test, \"g.\", linewidth = 3)\n",
        "  plt.legend(loc = \"upper left\")\n",
        "  plt.xlabel(\"X\")\n",
        "  plt.ylabel(\"y\")\n",
        "  plt.axis([0,1,-2,10])\n",
        "  plt.show()"
      ],
      "metadata": {
        "id": "5cYEAHqxw5fa"
      },
      "execution_count": null,
      "outputs": []
    },
    {
      "cell_type": "code",
      "source": [
        "polynomial_regression(2)"
      ],
      "metadata": {
        "id": "oyj4GkYG1R43"
      },
      "execution_count": null,
      "outputs": []
    },
    {
      "cell_type": "code",
      "source": [
        "from sklearn.model_selection import KFold\n",
        "kf = KFold(n_splits = 2, random_state = None)\n",
        "\n",
        "for train_index, test_index in kf.split(x_train_trans):\n",
        "  print(\"Train\", train_index, \"Validation:\", test_index)\n",
        "  X_train, x_test = X[train_index], X[test_index]\n",
        "  Y_train, y_test = Y[train_index], Y[test_index]"
      ],
      "metadata": {
        "id": "7OD8doSt396d"
      },
      "execution_count": null,
      "outputs": []
    },
    {
      "cell_type": "markdown",
      "source": [
        "#Ridge Regression"
      ],
      "metadata": {
        "id": "YkBKnVP7BL4J"
      }
    },
    {
      "cell_type": "code",
      "source": [
        "df = pd.read_csv('/content/drive/MyDrive/Colab Notebooks/BDSET /Lab/Lab_8/dataset 2.csv')\n",
        "df"
      ],
      "metadata": {
        "id": "W_NTRoo75rO2"
      },
      "execution_count": null,
      "outputs": []
    },
    {
      "cell_type": "code",
      "source": [
        "plt.scatter(df.X1,df.X2)"
      ],
      "metadata": {
        "id": "vh1qAVz6B4wP"
      },
      "execution_count": null,
      "outputs": []
    },
    {
      "cell_type": "code",
      "source": [
        "from sklearn.model_selection import train_test_split\n",
        "\n",
        "X = df[['X1']].to_numpy()\n",
        "Y = df[['X2']].to_numpy()\n",
        "\n",
        "X_train, x_test, Y_train, y_test = train_test_split(X, Y, test_size = 0.2)"
      ],
      "metadata": {
        "id": "lETA2bFDB_Cf"
      },
      "execution_count": null,
      "outputs": []
    },
    {
      "cell_type": "markdown",
      "source": [
        "#Lasso Regression"
      ],
      "metadata": {
        "id": "GriWgn-PFZPg"
      }
    },
    {
      "cell_type": "code",
      "source": [
        "#If we use a data where all the features are important we will use ridge. because it will never make the slopes zero\n",
        "#Lasso can be used to reduce the feature of a dataset\n",
        "# it will delete (make zero) some features after some time"
      ],
      "metadata": {
        "id": "ed61I0zhFNcO"
      },
      "execution_count": null,
      "outputs": []
    },
    {
      "cell_type": "code",
      "source": [],
      "metadata": {
        "id": "yJUz1Wl5G6cN"
      },
      "execution_count": null,
      "outputs": []
    }
  ]
}