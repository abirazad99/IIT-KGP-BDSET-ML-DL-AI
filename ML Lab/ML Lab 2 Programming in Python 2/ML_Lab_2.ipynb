{
  "nbformat": 4,
  "nbformat_minor": 0,
  "metadata": {
    "colab": {
      "provenance": []
    },
    "kernelspec": {
      "name": "python3",
      "display_name": "Python 3"
    },
    "language_info": {
      "name": "python"
    }
  },
  "cells": [
    {
      "cell_type": "code",
      "execution_count": null,
      "metadata": {
        "colab": {
          "base_uri": "https://localhost:8080/"
        },
        "id": "iz_-SobiTpiR",
        "outputId": "46f4c771-e3b6-42d3-8f57-89d4c244cca4"
      },
      "outputs": [
        {
          "output_type": "stream",
          "name": "stdout",
          "text": [
            "Looking in indexes: https://pypi.org/simple, https://us-python.pkg.dev/colab-wheels/public/simple/\n",
            "Requirement already satisfied: numpy in /usr/local/lib/python3.7/dist-packages (1.21.6)\n"
          ]
        }
      ],
      "source": [
        "!pip install numpy"
      ]
    },
    {
      "cell_type": "code",
      "source": [
        "import numpy as np"
      ],
      "metadata": {
        "id": "W29lUEt4T5nn"
      },
      "execution_count": null,
      "outputs": []
    },
    {
      "cell_type": "code",
      "source": [
        "#for importing only packages of a library\n",
        "#from numpy import _______\n",
        "#numpy uses an array based system.\n",
        "#array is homogenous but list is heterogenous\n"
      ],
      "metadata": {
        "id": "qy-x9odzUGzV"
      },
      "execution_count": null,
      "outputs": []
    },
    {
      "cell_type": "code",
      "source": [
        "import sys\n",
        "py_arr = [1,2,3,4,5,6]\n",
        "numpy_arr = np.array([1,2,3,4,5,6])\n",
        "sizeof_py_arr = sys.getsizeof(1) * len(py_arr) # Size = 168\n",
        "sizeof_numpy_arr = numpy_arr.itemsize * numpy_arr.size # Size = 48\n",
        "print(sizeof_py_arr)\n",
        "print(sizeof_numpy_arr)"
      ],
      "metadata": {
        "colab": {
          "base_uri": "https://localhost:8080/"
        },
        "id": "3aarOSOWUl4N",
        "outputId": "0db78595-8056-4191-a85c-785e71d3c751"
      },
      "execution_count": null,
      "outputs": [
        {
          "output_type": "stream",
          "name": "stdout",
          "text": [
            "168\n",
            "48\n"
          ]
        }
      ]
    },
    {
      "cell_type": "code",
      "source": [
        "# For NumPy arrays elements limited to 1 Byte / 8 Bits\n",
        "numpy_arr = np.array([1,2,3,4,5,6], dtype = np.int8)\n",
        "sizeof_numpy_arr = numpy_arr.itemsize * numpy_arr.size # Size = 6\n",
        "print(sizeof_numpy_arr)\n",
        "# For NumPy arrays elements limited to 2 Bytes / 16 Bits\n",
        "numpy_arr = np.array([1,2,3,4,5,6], dtype = np.int16)\n",
        "sizeof_numpy_arr = numpy_arr.itemsize * numpy_arr.size # Size = 12\n",
        "print(sizeof_numpy_arr)\n"
      ],
      "metadata": {
        "colab": {
          "base_uri": "https://localhost:8080/"
        },
        "id": "bgMBf3uAV-Ve",
        "outputId": "e48e83f4-fbe6-4767-8515-13a3e7ac48d9"
      },
      "execution_count": null,
      "outputs": [
        {
          "output_type": "stream",
          "name": "stdout",
          "text": [
            "6\n",
            "12\n"
          ]
        }
      ]
    },
    {
      "cell_type": "markdown",
      "source": [
        "#Creating a Numpy Array"
      ],
      "metadata": {
        "id": "CUOyO0UwW-sV"
      }
    },
    {
      "cell_type": "code",
      "source": [
        "#creating a list\n",
        "ls = [1,2,3,4,5]\n",
        "ls = np.array(ls)\n",
        "ls"
      ],
      "metadata": {
        "colab": {
          "base_uri": "https://localhost:8080/"
        },
        "id": "l-0iZ37GWuc-",
        "outputId": "084e4375-4eb1-47b5-d06a-dc8e203e22f4"
      },
      "execution_count": null,
      "outputs": [
        {
          "output_type": "execute_result",
          "data": {
            "text/plain": [
              "array([1, 2, 3, 4, 5])"
            ]
          },
          "metadata": {},
          "execution_count": 9
        }
      ]
    },
    {
      "cell_type": "code",
      "source": [
        "#creating an empty array\n",
        "array_0 = np.zeros((5,3))  #zeros method takes TUPLE as parameter. that's why we have brackets within a brackets. tuple allows it to take various size of the matrix\n",
        "array_0"
      ],
      "metadata": {
        "colab": {
          "base_uri": "https://localhost:8080/"
        },
        "id": "Y9xqY6GGXO4N",
        "outputId": "d4b7e4b2-65cf-4dbd-a342-7d60999fce73"
      },
      "execution_count": null,
      "outputs": [
        {
          "output_type": "execute_result",
          "data": {
            "text/plain": [
              "array([[0., 0., 0.],\n",
              "       [0., 0., 0.],\n",
              "       [0., 0., 0.],\n",
              "       [0., 0., 0.],\n",
              "       [0., 0., 0.]])"
            ]
          },
          "metadata": {},
          "execution_count": 23
        }
      ]
    },
    {
      "cell_type": "code",
      "source": [
        "#shape of the matrix\n",
        "np.shape(array_0)"
      ],
      "metadata": {
        "colab": {
          "base_uri": "https://localhost:8080/"
        },
        "id": "cQ6gxMKCXujd",
        "outputId": "6de1974c-882a-41f8-82f6-f295bbd471ac"
      },
      "execution_count": null,
      "outputs": [
        {
          "output_type": "execute_result",
          "data": {
            "text/plain": [
              "(5, 3)"
            ]
          },
          "metadata": {},
          "execution_count": 26
        }
      ]
    },
    {
      "cell_type": "code",
      "source": [
        "type(array_0)"
      ],
      "metadata": {
        "colab": {
          "base_uri": "https://localhost:8080/"
        },
        "id": "sSjvAMVYaGZd",
        "outputId": "d152b171-2eb0-4f15-ba32-c1fba6448946"
      },
      "execution_count": null,
      "outputs": [
        {
          "output_type": "execute_result",
          "data": {
            "text/plain": [
              "numpy.ndarray"
            ]
          },
          "metadata": {},
          "execution_count": 27
        }
      ]
    },
    {
      "cell_type": "code",
      "source": [
        "array_0.size"
      ],
      "metadata": {
        "colab": {
          "base_uri": "https://localhost:8080/"
        },
        "id": "30Ys8myUaQ09",
        "outputId": "1437f062-b6d8-4b42-e39e-a9cfd27069cc"
      },
      "execution_count": null,
      "outputs": [
        {
          "output_type": "execute_result",
          "data": {
            "text/plain": [
              "15"
            ]
          },
          "metadata": {},
          "execution_count": 29
        }
      ]
    },
    {
      "cell_type": "code",
      "source": [
        "#reshape\n",
        "array_0.reshape(5,1,3)"
      ],
      "metadata": {
        "colab": {
          "base_uri": "https://localhost:8080/"
        },
        "id": "13Vb-rDOaT2N",
        "outputId": "b6332cd4-8c34-4cc1-a6bb-cc31cae7b55a"
      },
      "execution_count": null,
      "outputs": [
        {
          "output_type": "execute_result",
          "data": {
            "text/plain": [
              "array([[[0., 0., 0.]],\n",
              "\n",
              "       [[0., 0., 0.]],\n",
              "\n",
              "       [[0., 0., 0.]],\n",
              "\n",
              "       [[0., 0., 0.]],\n",
              "\n",
              "       [[0., 0., 0.]]])"
            ]
          },
          "metadata": {},
          "execution_count": 30
        }
      ]
    },
    {
      "cell_type": "code",
      "source": [
        "array_0.ravel()"
      ],
      "metadata": {
        "colab": {
          "base_uri": "https://localhost:8080/"
        },
        "id": "AECoQ0-Ua0oV",
        "outputId": "ba971a56-5bfb-4d6e-b8d6-59cf8349f244"
      },
      "execution_count": null,
      "outputs": [
        {
          "output_type": "execute_result",
          "data": {
            "text/plain": [
              "array([0., 0., 0., 0., 0., 0., 0., 0., 0., 0., 0., 0., 0., 0., 0.])"
            ]
          },
          "metadata": {},
          "execution_count": 31
        }
      ]
    },
    {
      "cell_type": "code",
      "source": [
        "np.shape(array_0.ravel())"
      ],
      "metadata": {
        "colab": {
          "base_uri": "https://localhost:8080/"
        },
        "id": "ui5JXXeZbMVk",
        "outputId": "a2c7c6ab-fe41-45a7-ad0a-6ced35cf3d80"
      },
      "execution_count": null,
      "outputs": [
        {
          "output_type": "execute_result",
          "data": {
            "text/plain": [
              "(15,)"
            ]
          },
          "metadata": {},
          "execution_count": 34
        }
      ]
    },
    {
      "cell_type": "code",
      "source": [
        "#see\n",
        "#we can also vectorize our written code\n",
        "# UFUNK()"
      ],
      "metadata": {
        "id": "9WduArFYgDmu"
      },
      "execution_count": null,
      "outputs": []
    },
    {
      "cell_type": "code",
      "source": [
        "#CuDA\n",
        "#CuDNN \n",
        "#learn in Deep Learning  "
      ],
      "metadata": {
        "id": "wejPbLTJboJF"
      },
      "execution_count": null,
      "outputs": []
    },
    {
      "cell_type": "markdown",
      "source": [
        "#Assignment\n",
        "matrix multiplication - for numpy array and loop\n"
      ],
      "metadata": {
        "id": "DWvzni_cgVlF"
      }
    },
    {
      "cell_type": "code",
      "source": [],
      "metadata": {
        "id": "6305_MKuoFj1"
      },
      "execution_count": null,
      "outputs": []
    },
    {
      "cell_type": "markdown",
      "source": [
        "#DATA HANDLING"
      ],
      "metadata": {
        "id": "CltF1T1ZoJss"
      }
    },
    {
      "cell_type": "code",
      "source": [
        "#columns represents features/attributes\n",
        "#rows represents samples\n",
        "#Data -> numerical data or categorical data"
      ],
      "metadata": {
        "id": "JXU9aTFVoHSc"
      },
      "execution_count": null,
      "outputs": []
    },
    {
      "cell_type": "code",
      "source": [
        "import pandas as pd"
      ],
      "metadata": {
        "id": "F0Lu9vM9r0uF"
      },
      "execution_count": null,
      "outputs": []
    },
    {
      "cell_type": "code",
      "source": [
        "#df = pd.read_csv()"
      ],
      "metadata": {
        "id": "O3OLflLSr2Z0"
      },
      "execution_count": null,
      "outputs": []
    },
    {
      "cell_type": "code",
      "source": [
        "from google.colab import drive\n",
        "drive.mount('/content/drive')"
      ],
      "metadata": {
        "colab": {
          "base_uri": "https://localhost:8080/"
        },
        "id": "AQBWS_XTtY0N",
        "outputId": "e07f4803-f836-4d8b-96e1-69c85bf6a588"
      },
      "execution_count": null,
      "outputs": [
        {
          "output_type": "stream",
          "name": "stdout",
          "text": [
            "Drive already mounted at /content/drive; to attempt to forcibly remount, call drive.mount(\"/content/drive\", force_remount=True).\n"
          ]
        }
      ]
    },
    {
      "cell_type": "code",
      "source": [
        "df = pd.read_csv('/content/drive/MyDrive/Colab Notebooks/BDSET /Dataset/Lab 2/DataHandlingInPython/dataset_1.csv')"
      ],
      "metadata": {
        "id": "fagFOOofxLD8"
      },
      "execution_count": null,
      "outputs": []
    },
    {
      "cell_type": "code",
      "source": [
        "import matplotlib.pyplot as plt\n",
        "colors = [\"red\" if i == 0 else \"green\" for i in df.label]\n",
        "df.plot.scatter(x='x', y='y', color=colors)"
      ],
      "metadata": {
        "colab": {
          "base_uri": "https://localhost:8080/",
          "height": 296
        },
        "id": "JWn8W9gA02VU",
        "outputId": "29bb00e3-794f-4237-f3ee-f2f1f7522518"
      },
      "execution_count": null,
      "outputs": [
        {
          "output_type": "execute_result",
          "data": {
            "text/plain": [
              "<matplotlib.axes._subplots.AxesSubplot at 0x7f4f97709750>"
            ]
          },
          "metadata": {},
          "execution_count": 52
        },
        {
          "output_type": "display_data",
          "data": {
            "text/plain": [
              "<Figure size 432x288 with 1 Axes>"
            ],
            "image/png": "[encoded data removed]"
          },
          "metadata": {
            "needs_background": "light"
          }
        }
      ]
    },
    {
      "cell_type": "code",
      "source": [
        "# Understanding JSON\n",
        "import json\n",
        "# some JSON:\n",
        "x = '{ \"name\":\"John\", \"age\":30, \"city\":\"New York\"}'\n",
        "# parse x:\n",
        "y = json.loads(x)\n",
        "# the result is a Python dictionary:\n",
        "print(y[\"age\"])\n"
      ],
      "metadata": {
        "colab": {
          "base_uri": "https://localhost:8080/"
        },
        "id": "5yUYK9lj07Qr",
        "outputId": "fccda39a-c5da-4ba5-a1aa-0174283668eb"
      },
      "execution_count": null,
      "outputs": [
        {
          "output_type": "stream",
          "name": "stdout",
          "text": [
            "30\n"
          ]
        }
      ]
    },
    {
      "cell_type": "code",
      "source": [
        "# some JSON:\n",
        "x = '{ \"name\":{\"First\":\"John\", \"Surname\":\"Cena\"}, \"age\":30, \"city\":\"New York\"}'\n",
        "# parse x:\n",
        "y = json.loads(x)\n",
        "# the result is a Python dictionary:\n",
        "print(y[\"name\"])\n",
        "print(y[\"name\"][\"First\"])"
      ],
      "metadata": {
        "colab": {
          "base_uri": "https://localhost:8080/"
        },
        "id": "QRF8J-ta4lAr",
        "outputId": "3d487851-2e73-431a-c93b-2530d20bb662"
      },
      "execution_count": null,
      "outputs": [
        {
          "output_type": "stream",
          "name": "stdout",
          "text": [
            "{'First': 'John', 'Surname': 'Cena'}\n",
            "John\n"
          ]
        }
      ]
    },
    {
      "cell_type": "code",
      "source": [],
      "metadata": {
        "id": "woHPB98y4m6z"
      },
      "execution_count": null,
      "outputs": []
    }
  ]
}