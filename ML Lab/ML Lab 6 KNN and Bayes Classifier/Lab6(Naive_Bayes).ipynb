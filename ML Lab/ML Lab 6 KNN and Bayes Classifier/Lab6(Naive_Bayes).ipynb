{
  "nbformat": 4,
  "nbformat_minor": 0,
  "metadata": {
    "colab": {
      "provenance": []
    },
    "kernelspec": {
      "name": "python3",
      "display_name": "Python 3"
    },
    "language_info": {
      "name": "python"
    }
  },
  "cells": [
    {
      "cell_type": "code",
      "execution_count": null,
      "metadata": {
        "id": "PusHh6AwzO7H"
      },
      "outputs": [],
      "source": [
        "#It is called naive because we assume that the features arae conditionally independent"
      ]
    },
    {
      "cell_type": "code",
      "source": [
        "# p(R=yes | X= ..............)\n",
        "# P(Hot | R=yes) * P(Normal | R=yes) * p(Sunny | R=yes) * p(False | R=yes) * p(yes)\n"
      ],
      "metadata": {
        "id": "kwAMh46o6j7s"
      },
      "execution_count": null,
      "outputs": []
    },
    {
      "cell_type": "code",
      "source": [
        "# p(x=xi | yes) = e_to the power(-.5*(((xi-mu)/sigma)**2))/(root(2*pi)*sigma)"
      ],
      "metadata": {
        "id": "wbmNNXyc910B"
      },
      "execution_count": null,
      "outputs": []
    },
    {
      "cell_type": "code",
      "source": [
        "import numpy as np\n",
        "import pandas as pd\n",
        "import matplotlib.pyplot as plt\n"
      ],
      "metadata": {
        "id": "eUgslhFcNqHE"
      },
      "execution_count": null,
      "outputs": []
    },
    {
      "cell_type": "code",
      "source": [
        "from google.colab import drive\n",
        "drive.mount('/content/drive')"
      ],
      "metadata": {
        "colab": {
          "base_uri": "https://localhost:8080/"
        },
        "id": "LSum9x3FOHqr",
        "outputId": "bcf526e1-309b-424f-d61d-1c8a4deb2bfd"
      },
      "execution_count": null,
      "outputs": [
        {
          "output_type": "stream",
          "name": "stdout",
          "text": [
            "Mounted at /content/drive\n"
          ]
        }
      ]
    },
    {
      "cell_type": "code",
      "source": [
        "df = pd.read_excel('/content/drive/MyDrive/Colab Notebooks/BDSET /Lab/Lab_6/Dataset_2_Bayes.xlsx')"
      ],
      "metadata": {
        "id": "LZqhuI9GOOoa"
      },
      "execution_count": null,
      "outputs": []
    },
    {
      "cell_type": "code",
      "source": [
        "df.head()"
      ],
      "metadata": {
        "colab": {
          "base_uri": "https://localhost:8080/",
          "height": 206
        },
        "id": "Phnqz7AsObhr",
        "outputId": "4da15139-2f66-4e9e-ffdb-059e389a6f5b"
      },
      "execution_count": null,
      "outputs": [
        {
          "output_type": "execute_result",
          "data": {
            "text/plain": [
              "  Climate Humidity Outlook  Windy Rainfall\n",
              "0     Hot     High  Cloudy  False       No\n",
              "1     Hot     High  Cloudy   True       No\n",
              "2     Hot     High   Foggy  False      Yes\n",
              "3    Mild     High   Sunny  False      Yes\n",
              "4    Cool   Normal   Sunny  False      Yes"
            ],
            "text/html": [
              "\n",
              "  <div id=\"df-7ef29e32-916e-447d-8244-e8bdc6059df6\">\n",
              "    <div class=\"colab-df-container\">\n",
              "      <div>\n",
              "<style scoped>\n",
              "    .dataframe tbody tr th:only-of-type {\n",
              "        vertical-align: middle;\n",
              "    }\n",
              "\n",
              "    .dataframe tbody tr th {\n",
              "        vertical-align: top;\n",
              "    }\n",
              "\n",
              "    .dataframe thead th {\n",
              "        text-align: right;\n",
              "    }\n",
              "</style>\n",
              "<table border=\"1\" class=\"dataframe\">\n",
              "  <thead>\n",
              "    <tr style=\"text-align: right;\">\n",
              "      <th></th>\n",
              "      <th>Climate</th>\n",
              "      <th>Humidity</th>\n",
              "      <th>Outlook</th>\n",
              "      <th>Windy</th>\n",
              "      <th>Rainfall</th>\n",
              "    </tr>\n",
              "  </thead>\n",
              "  <tbody>\n",
              "    <tr>\n",
              "      <th>0</th>\n",
              "      <td>Hot</td>\n",
              "      <td>High</td>\n",
              "      <td>Cloudy</td>\n",
              "      <td>False</td>\n",
              "      <td>No</td>\n",
              "    </tr>\n",
              "    <tr>\n",
              "      <th>1</th>\n",
              "      <td>Hot</td>\n",
              "      <td>High</td>\n",
              "      <td>Cloudy</td>\n",
              "      <td>True</td>\n",
              "      <td>No</td>\n",
              "    </tr>\n",
              "    <tr>\n",
              "      <th>2</th>\n",
              "      <td>Hot</td>\n",
              "      <td>High</td>\n",
              "      <td>Foggy</td>\n",
              "      <td>False</td>\n",
              "      <td>Yes</td>\n",
              "    </tr>\n",
              "    <tr>\n",
              "      <th>3</th>\n",
              "      <td>Mild</td>\n",
              "      <td>High</td>\n",
              "      <td>Sunny</td>\n",
              "      <td>False</td>\n",
              "      <td>Yes</td>\n",
              "    </tr>\n",
              "    <tr>\n",
              "      <th>4</th>\n",
              "      <td>Cool</td>\n",
              "      <td>Normal</td>\n",
              "      <td>Sunny</td>\n",
              "      <td>False</td>\n",
              "      <td>Yes</td>\n",
              "    </tr>\n",
              "  </tbody>\n",
              "</table>\n",
              "</div>\n",
              "      <button class=\"colab-df-convert\" onclick=\"convertToInteractive('df-7ef29e32-916e-447d-8244-e8bdc6059df6')\"\n",
              "              title=\"Convert this dataframe to an interactive table.\"\n",
              "              style=\"display:none;\">\n",
              "        \n",
              "  <svg xmlns=\"http://www.w3.org/2000/svg\" height=\"24px\"viewBox=\"0 0 24 24\"\n",
              "       width=\"24px\">\n",
              "    <path d=\"M0 0h24v24H0V0z\" fill=\"none\"/>\n",
              "    <path d=\"M18.56 5.44l.94 2.06.94-2.06 2.06-.94-2.06-.94-.94-2.06-.94 2.06-2.06.94zm-11 1L8.5 8.5l.94-2.06 2.06-.94-2.06-.94L8.5 2.5l-.94 2.06-2.06.94zm10 10l.94 2.06.94-2.06 2.06-.94-2.06-.94-.94-2.06-.94 2.06-2.06.94z\"/><path d=\"M17.41 7.96l-1.37-1.37c-.4-.4-.92-.59-1.43-.59-.52 0-1.04.2-1.43.59L10.3 9.45l-7.72 7.72c-.78.78-.78 2.05 0 2.83L4 21.41c.39.39.9.59 1.41.59.51 0 1.02-.2 1.41-.59l7.78-7.78 2.81-2.81c.8-.78.8-2.07 0-2.86zM5.41 20L4 18.59l7.72-7.72 1.47 1.35L5.41 20z\"/>\n",
              "  </svg>\n",
              "      </button>\n",
              "      \n",
              "  <style>\n",
              "    .colab-df-container {\n",
              "      display:flex;\n",
              "      flex-wrap:wrap;\n",
              "      gap: 12px;\n",
              "    }\n",
              "\n",
              "    .colab-df-convert {\n",
              "      background-color: #E8F0FE;\n",
              "      border: none;\n",
              "      border-radius: 50%;\n",
              "      cursor: pointer;\n",
              "      display: none;\n",
              "      fill: #1967D2;\n",
              "      height: 32px;\n",
              "      padding: 0 0 0 0;\n",
              "      width: 32px;\n",
              "    }\n",
              "\n",
              "    .colab-df-convert:hover {\n",
              "      background-color: #E2EBFA;\n",
              "      box-shadow: 0px 1px 2px rgba(60, 64, 67, 0.3), 0px 1px 3px 1px rgba(60, 64, 67, 0.15);\n",
              "      fill: #174EA6;\n",
              "    }\n",
              "\n",
              "    [theme=dark] .colab-df-convert {\n",
              "      background-color: #3B4455;\n",
              "      fill: #D2E3FC;\n",
              "    }\n",
              "\n",
              "    [theme=dark] .colab-df-convert:hover {\n",
              "      background-color: #434B5C;\n",
              "      box-shadow: 0px 1px 3px 1px rgba(0, 0, 0, 0.15);\n",
              "      filter: drop-shadow(0px 1px 2px rgba(0, 0, 0, 0.3));\n",
              "      fill: #FFFFFF;\n",
              "    }\n",
              "  </style>\n",
              "\n",
              "      <script>\n",
              "        const buttonEl =\n",
              "          document.querySelector('#df-7ef29e32-916e-447d-8244-e8bdc6059df6 button.colab-df-convert');\n",
              "        buttonEl.style.display =\n",
              "          google.colab.kernel.accessAllowed ? 'block' : 'none';\n",
              "\n",
              "        async function convertToInteractive(key) {\n",
              "          const element = document.querySelector('#df-7ef29e32-916e-447d-8244-e8bdc6059df6');\n",
              "          const dataTable =\n",
              "            await google.colab.kernel.invokeFunction('convertToInteractive',\n",
              "                                                     [key], {});\n",
              "          if (!dataTable) return;\n",
              "\n",
              "          const docLinkHtml = 'Like what you see? Visit the ' +\n",
              "            '<a target=\"_blank\" href=https://colab.research.google.com/notebooks/data_table.ipynb>data table notebook</a>'\n",
              "            + ' to learn more about interactive tables.';\n",
              "          element.innerHTML = '';\n",
              "          dataTable['output_type'] = 'display_data';\n",
              "          await google.colab.output.renderOutput(dataTable, element);\n",
              "          const docLink = document.createElement('div');\n",
              "          docLink.innerHTML = docLinkHtml;\n",
              "          element.appendChild(docLink);\n",
              "        }\n",
              "      </script>\n",
              "    </div>\n",
              "  </div>\n",
              "  "
            ]
          },
          "metadata": {},
          "execution_count": 4
        }
      ]
    },
    {
      "cell_type": "code",
      "source": [
        "np.unique(df['Climate'])"
      ],
      "metadata": {
        "colab": {
          "base_uri": "https://localhost:8080/"
        },
        "id": "PUNkhwkJOc3q",
        "outputId": "fa278604-c331-4426-d178-81ea93e1d78c"
      },
      "execution_count": null,
      "outputs": [
        {
          "output_type": "execute_result",
          "data": {
            "text/plain": [
              "array(['Cool', 'Hot', 'Mild'], dtype=object)"
            ]
          },
          "metadata": {},
          "execution_count": 9
        }
      ]
    },
    {
      "cell_type": "code",
      "source": [
        "listL = [[],[]]\n",
        "# listL[0].append('Cool_Yes')\n",
        "# listL[0].append('Cool_No')\n",
        "# listL[0].append('Hot_Yes')\n",
        "# listL[0].append('Hot_No')\n",
        "# listL[0].append('Mild_Yes')\n",
        "# listL[0].append('Mild_No')"
      ],
      "metadata": {
        "id": "ZTc3ZF1cTMcK"
      },
      "execution_count": null,
      "outputs": []
    },
    {
      "cell_type": "code",
      "source": [
        "print(listL)"
      ],
      "metadata": {
        "colab": {
          "base_uri": "https://localhost:8080/"
        },
        "id": "A4vai1QXUI6G",
        "outputId": "0eb3db07-b198-433d-df3b-d0f113e6dcdf"
      },
      "execution_count": null,
      "outputs": [
        {
          "output_type": "stream",
          "name": "stdout",
          "text": [
            "[[], []]\n"
          ]
        }
      ]
    },
    {
      "cell_type": "code",
      "source": [
        "len(df.loc[(df['Climate']==i) & ( df['Rainfall']=='Yes')])/len(df.loc[df['Rainfall'] == 'Yes'])"
      ],
      "metadata": {
        "colab": {
          "base_uri": "https://localhost:8080/"
        },
        "id": "OA5xAzocWjAK",
        "outputId": "ba40aaf5-9e5a-4788-aa70-19f21b7e79b2"
      },
      "execution_count": null,
      "outputs": [
        {
          "output_type": "execute_result",
          "data": {
            "text/plain": [
              "0.4444444444444444"
            ]
          },
          "metadata": {},
          "execution_count": 71
        }
      ]
    },
    {
      "cell_type": "code",
      "source": [
        "p_Climate_Rainfall = np.zeros(20)"
      ],
      "metadata": {
        "id": "EMdMkQsGQ8ex"
      },
      "execution_count": null,
      "outputs": []
    },
    {
      "cell_type": "code",
      "source": [
        "for i in np.unique(df['Climate']):\n",
        " print(i)\n",
        " listL[1].append(df.loc[(df['Climate']==i) & ( df['Rainfall']=='Yes')].shape[0]/len(df.loc[df['Rainfall'] == 'Yes']))\n",
        " listL[1].append(df.loc[(df['Climate']==i) & ( df['Rainfall']=='No')].shape[0]/len(df.loc[df['Rainfall'] == 'No']))"
      ],
      "metadata": {
        "colab": {
          "base_uri": "https://localhost:8080/"
        },
        "id": "qLyH6dYgOkQK",
        "outputId": "7d27cf3a-2aab-4e41-de58-661efa43e1ff"
      },
      "execution_count": null,
      "outputs": [
        {
          "output_type": "stream",
          "name": "stdout",
          "text": [
            "Cool\n",
            "Hot\n",
            "Mild\n"
          ]
        }
      ]
    },
    {
      "cell_type": "code",
      "source": [
        "for i in df.columns[:-1]:\n",
        "  print(np.unique(df[i]))"
      ],
      "metadata": {
        "colab": {
          "base_uri": "https://localhost:8080/"
        },
        "id": "R-bSRHX8X32J",
        "outputId": "754b193c-11c6-4b65-d26f-9ff3887553e0"
      },
      "execution_count": null,
      "outputs": [
        {
          "output_type": "stream",
          "name": "stdout",
          "text": [
            "['Cool' 'Hot' 'Mild']\n",
            "['High' 'Normal']\n",
            "['Cloudy' 'Foggy' 'Sunny']\n",
            "[False  True]\n"
          ]
        }
      ]
    },
    {
      "cell_type": "code",
      "source": [
        "df.columns"
      ],
      "metadata": {
        "colab": {
          "base_uri": "https://localhost:8080/"
        },
        "id": "sxfpWDQAX1C6",
        "outputId": "0b904ac6-6158-44c2-e4ac-73b4df2a4696"
      },
      "execution_count": null,
      "outputs": [
        {
          "output_type": "execute_result",
          "data": {
            "text/plain": [
              "Index(['Climate', 'Humidity', 'Outlook', 'Windy', 'Rainfall'], dtype='object')"
            ]
          },
          "metadata": {},
          "execution_count": 78
        }
      ]
    },
    {
      "cell_type": "code",
      "source": [
        "df.columns[:-1]"
      ],
      "metadata": {
        "colab": {
          "base_uri": "https://localhost:8080/"
        },
        "id": "1DmoyjfXXU7n",
        "outputId": "eaa52c70-8308-45ce-82a6-3abf7adf40d5"
      },
      "execution_count": null,
      "outputs": [
        {
          "output_type": "execute_result",
          "data": {
            "text/plain": [
              "Index(['Climate', 'Humidity', 'Outlook', 'Windy'], dtype='object')"
            ]
          },
          "metadata": {},
          "execution_count": 77
        }
      ]
    },
    {
      "cell_type": "code",
      "source": [
        "listL = [[],[]]\n",
        "for k in df.columns[:-1]:\n",
        "  for i in np.unique(df[k]):\n",
        "    for j in np.unique(df['Rainfall']):\n",
        "      listL[0].append(k+str(i)+j)\n",
        "      listL[1].append(df.loc[(df[k]==i) & ( df['Rainfall']==j)].shape[0]/len(df.loc[df['Rainfall'] == j]))\n"
      ],
      "metadata": {
        "id": "qUYDWrpFX9ig"
      },
      "execution_count": null,
      "outputs": []
    },
    {
      "cell_type": "code",
      "source": [
        "np.array(listL[1])"
      ],
      "metadata": {
        "colab": {
          "base_uri": "https://localhost:8080/"
        },
        "id": "I7o5zs6DbshG",
        "outputId": "b0eec83f-f180-4026-9fe6-36cd18435ad5"
      },
      "execution_count": null,
      "outputs": [
        {
          "output_type": "execute_result",
          "data": {
            "text/plain": [
              "array([0.2       , 0.33333333, 0.4       , 0.22222222, 0.4       ,\n",
              "       0.44444444, 0.8       , 0.33333333, 0.2       , 0.66666667,\n",
              "       0.6       , 0.11111111, 0.        , 0.55555556, 0.4       ,\n",
              "       0.33333333, 0.4       , 0.66666667, 0.6       , 0.33333333])"
            ]
          },
          "metadata": {},
          "execution_count": 128
        }
      ]
    },
    {
      "cell_type": "code",
      "source": [
        "len(listL[0])"
      ],
      "metadata": {
        "colab": {
          "base_uri": "https://localhost:8080/"
        },
        "id": "OYz7iGIebbhG",
        "outputId": "54e8476d-6a54-46f8-f7bb-f5036059e886"
      },
      "execution_count": null,
      "outputs": [
        {
          "output_type": "execute_result",
          "data": {
            "text/plain": [
              "20"
            ]
          },
          "metadata": {},
          "execution_count": 129
        }
      ]
    },
    {
      "cell_type": "code",
      "source": [],
      "metadata": {
        "id": "05LLsqOJcIk2"
      },
      "execution_count": null,
      "outputs": []
    },
    {
      "cell_type": "code",
      "source": [
        "df1 = pd.DataFrame(np.array(listL[1]).reshape(1,20),columns=[listL[0]])\n",
        "df1"
      ],
      "metadata": {
        "colab": {
          "base_uri": "https://localhost:8080/",
          "height": 145
        },
        "id": "mKceJVsoYJv_",
        "outputId": "31f66209-83e9-4e2a-fb3e-a69c1b8448e1"
      },
      "execution_count": null,
      "outputs": [
        {
          "output_type": "execute_result",
          "data": {
            "text/plain": [
              "  ClimateCoolNo ClimateCoolYes ClimateHotNo ClimateHotYes ClimateMildNo  \\\n",
              "0           0.2       0.333333          0.4      0.222222           0.4   \n",
              "\n",
              "  ClimateMildYes HumidityHighNo HumidityHighYes HumidityNormalNo  \\\n",
              "0       0.444444            0.8        0.333333              0.2   \n",
              "\n",
              "  HumidityNormalYes OutlookCloudyNo OutlookCloudyYes OutlookFoggyNo  \\\n",
              "0          0.666667             0.6         0.111111            0.0   \n",
              "\n",
              "  OutlookFoggyYes OutlookSunnyNo OutlookSunnyYes WindyFalseNo WindyFalseYes  \\\n",
              "0        0.555556            0.4        0.333333          0.4      0.666667   \n",
              "\n",
              "  WindyTrueNo WindyTrueYes  \n",
              "0         0.6     0.333333  "
            ],
            "text/html": [
              "\n",
              "  <div id=\"df-cb98fce1-3876-440e-b1e5-9d9911b267f2\">\n",
              "    <div class=\"colab-df-container\">\n",
              "      <div>\n",
              "<style scoped>\n",
              "    .dataframe tbody tr th:only-of-type {\n",
              "        vertical-align: middle;\n",
              "    }\n",
              "\n",
              "    .dataframe tbody tr th {\n",
              "        vertical-align: top;\n",
              "    }\n",
              "\n",
              "    .dataframe thead tr th {\n",
              "        text-align: left;\n",
              "    }\n",
              "</style>\n",
              "<table border=\"1\" class=\"dataframe\">\n",
              "  <thead>\n",
              "    <tr>\n",
              "      <th></th>\n",
              "      <th>ClimateCoolNo</th>\n",
              "      <th>ClimateCoolYes</th>\n",
              "      <th>ClimateHotNo</th>\n",
              "      <th>ClimateHotYes</th>\n",
              "      <th>ClimateMildNo</th>\n",
              "      <th>ClimateMildYes</th>\n",
              "      <th>HumidityHighNo</th>\n",
              "      <th>HumidityHighYes</th>\n",
              "      <th>HumidityNormalNo</th>\n",
              "      <th>HumidityNormalYes</th>\n",
              "      <th>OutlookCloudyNo</th>\n",
              "      <th>OutlookCloudyYes</th>\n",
              "      <th>OutlookFoggyNo</th>\n",
              "      <th>OutlookFoggyYes</th>\n",
              "      <th>OutlookSunnyNo</th>\n",
              "      <th>OutlookSunnyYes</th>\n",
              "      <th>WindyFalseNo</th>\n",
              "      <th>WindyFalseYes</th>\n",
              "      <th>WindyTrueNo</th>\n",
              "      <th>WindyTrueYes</th>\n",
              "    </tr>\n",
              "  </thead>\n",
              "  <tbody>\n",
              "    <tr>\n",
              "      <th>0</th>\n",
              "      <td>0.2</td>\n",
              "      <td>0.333333</td>\n",
              "      <td>0.4</td>\n",
              "      <td>0.222222</td>\n",
              "      <td>0.4</td>\n",
              "      <td>0.444444</td>\n",
              "      <td>0.8</td>\n",
              "      <td>0.333333</td>\n",
              "      <td>0.2</td>\n",
              "      <td>0.666667</td>\n",
              "      <td>0.6</td>\n",
              "      <td>0.111111</td>\n",
              "      <td>0.0</td>\n",
              "      <td>0.555556</td>\n",
              "      <td>0.4</td>\n",
              "      <td>0.333333</td>\n",
              "      <td>0.4</td>\n",
              "      <td>0.666667</td>\n",
              "      <td>0.6</td>\n",
              "      <td>0.333333</td>\n",
              "    </tr>\n",
              "  </tbody>\n",
              "</table>\n",
              "</div>\n",
              "      <button class=\"colab-df-convert\" onclick=\"convertToInteractive('df-cb98fce1-3876-440e-b1e5-9d9911b267f2')\"\n",
              "              title=\"Convert this dataframe to an interactive table.\"\n",
              "              style=\"display:none;\">\n",
              "        \n",
              "  <svg xmlns=\"http://www.w3.org/2000/svg\" height=\"24px\"viewBox=\"0 0 24 24\"\n",
              "       width=\"24px\">\n",
              "    <path d=\"M0 0h24v24H0V0z\" fill=\"none\"/>\n",
              "    <path d=\"M18.56 5.44l.94 2.06.94-2.06 2.06-.94-2.06-.94-.94-2.06-.94 2.06-2.06.94zm-11 1L8.5 8.5l.94-2.06 2.06-.94-2.06-.94L8.5 2.5l-.94 2.06-2.06.94zm10 10l.94 2.06.94-2.06 2.06-.94-2.06-.94-.94-2.06-.94 2.06-2.06.94z\"/><path d=\"M17.41 7.96l-1.37-1.37c-.4-.4-.92-.59-1.43-.59-.52 0-1.04.2-1.43.59L10.3 9.45l-7.72 7.72c-.78.78-.78 2.05 0 2.83L4 21.41c.39.39.9.59 1.41.59.51 0 1.02-.2 1.41-.59l7.78-7.78 2.81-2.81c.8-.78.8-2.07 0-2.86zM5.41 20L4 18.59l7.72-7.72 1.47 1.35L5.41 20z\"/>\n",
              "  </svg>\n",
              "      </button>\n",
              "      \n",
              "  <style>\n",
              "    .colab-df-container {\n",
              "      display:flex;\n",
              "      flex-wrap:wrap;\n",
              "      gap: 12px;\n",
              "    }\n",
              "\n",
              "    .colab-df-convert {\n",
              "      background-color: #E8F0FE;\n",
              "      border: none;\n",
              "      border-radius: 50%;\n",
              "      cursor: pointer;\n",
              "      display: none;\n",
              "      fill: #1967D2;\n",
              "      height: 32px;\n",
              "      padding: 0 0 0 0;\n",
              "      width: 32px;\n",
              "    }\n",
              "\n",
              "    .colab-df-convert:hover {\n",
              "      background-color: #E2EBFA;\n",
              "      box-shadow: 0px 1px 2px rgba(60, 64, 67, 0.3), 0px 1px 3px 1px rgba(60, 64, 67, 0.15);\n",
              "      fill: #174EA6;\n",
              "    }\n",
              "\n",
              "    [theme=dark] .colab-df-convert {\n",
              "      background-color: #3B4455;\n",
              "      fill: #D2E3FC;\n",
              "    }\n",
              "\n",
              "    [theme=dark] .colab-df-convert:hover {\n",
              "      background-color: #434B5C;\n",
              "      box-shadow: 0px 1px 3px 1px rgba(0, 0, 0, 0.15);\n",
              "      filter: drop-shadow(0px 1px 2px rgba(0, 0, 0, 0.3));\n",
              "      fill: #FFFFFF;\n",
              "    }\n",
              "  </style>\n",
              "\n",
              "      <script>\n",
              "        const buttonEl =\n",
              "          document.querySelector('#df-cb98fce1-3876-440e-b1e5-9d9911b267f2 button.colab-df-convert');\n",
              "        buttonEl.style.display =\n",
              "          google.colab.kernel.accessAllowed ? 'block' : 'none';\n",
              "\n",
              "        async function convertToInteractive(key) {\n",
              "          const element = document.querySelector('#df-cb98fce1-3876-440e-b1e5-9d9911b267f2');\n",
              "          const dataTable =\n",
              "            await google.colab.kernel.invokeFunction('convertToInteractive',\n",
              "                                                     [key], {});\n",
              "          if (!dataTable) return;\n",
              "\n",
              "          const docLinkHtml = 'Like what you see? Visit the ' +\n",
              "            '<a target=\"_blank\" href=https://colab.research.google.com/notebooks/data_table.ipynb>data table notebook</a>'\n",
              "            + ' to learn more about interactive tables.';\n",
              "          element.innerHTML = '';\n",
              "          dataTable['output_type'] = 'display_data';\n",
              "          await google.colab.output.renderOutput(dataTable, element);\n",
              "          const docLink = document.createElement('div');\n",
              "          docLink.innerHTML = docLinkHtml;\n",
              "          element.appendChild(docLink);\n",
              "        }\n",
              "      </script>\n",
              "    </div>\n",
              "  </div>\n",
              "  "
            ]
          },
          "metadata": {},
          "execution_count": 130
        }
      ]
    },
    {
      "cell_type": "code",
      "source": [
        "prior_Yes = len(df.loc[df['Rainfall'] == 'Yes'])/len(df)\n",
        "prior_No =  len(df.loc[df['Rainfall'] == 'No'])/len(df)\n",
        "\n",
        "print(prior_Yes)\n",
        "print(prior_No)"
      ],
      "metadata": {
        "colab": {
          "base_uri": "https://localhost:8080/"
        },
        "id": "H_MQlGG_iYjt",
        "outputId": "49d1b2c0-9753-441c-9a60-9e99f19d3270"
      },
      "execution_count": null,
      "outputs": [
        {
          "output_type": "stream",
          "name": "stdout",
          "text": [
            "0.6428571428571429\n",
            "0.35714285714285715\n"
          ]
        }
      ]
    },
    {
      "cell_type": "code",
      "source": [
        "print(df1['ClimateHotYes'])\n",
        "print(df1['ClimateHotNo'])\n",
        "print(df1['HumidityNormalYes'])\n",
        "print(df1['HumidityNormalNo'])\n",
        "print(df1['OutlookSunnyYes'])\n",
        "print(df1['OutlookSunnyNo'])\n",
        "print(df1['WindyFalseYes'])\n",
        "print(df1['WindyFalseNo'])\n",
        "\n",
        "print(np.array(df1['ClimateHotYes'])*np.array(df1['HumidityNormalYes'])*np.array(df1['OutlookSunnyYes'])*np.array(df1['WindyFalseYes'])*prior_Yes)\n",
        "print(np.array(df1['ClimateHotNo'])*np.array(df1['HumidityNormalNo'])*np.array(df1['OutlookSunnyNo'])*np.array(df1['WindyFalseNo'])*prior_No)"
      ],
      "metadata": {
        "colab": {
          "base_uri": "https://localhost:8080/"
        },
        "id": "mKOzVvIWdqL-",
        "outputId": "c392a261-924b-4fbe-de27-a372eeee8813"
      },
      "execution_count": null,
      "outputs": [
        {
          "output_type": "stream",
          "name": "stdout",
          "text": [
            "  ClimateHotYes\n",
            "0      0.222222\n",
            "  ClimateHotNo\n",
            "0          0.4\n",
            "  HumidityNormalYes\n",
            "0          0.666667\n",
            "  HumidityNormalNo\n",
            "0              0.2\n",
            "  OutlookSunnyYes\n",
            "0        0.333333\n",
            "  OutlookSunnyNo\n",
            "0            0.4\n",
            "  WindyFalseYes\n",
            "0      0.666667\n",
            "  WindyFalseNo\n",
            "0          0.4\n",
            "[[0.02116402]]\n",
            "[[0.00457143]]\n"
          ]
        }
      ]
    },
    {
      "cell_type": "code",
      "source": [
        "listL = [[],[]]\n",
        "for i in np.unique(df['Climate']):\n",
        "  for j in np.unique(df['Rainfall']):\n",
        "    listL[0].append(i+j)\n",
        "    listL[1].append(df.loc[(df['Climate']==i) & ( df['Rainfall']==j)].shape[0]/len(df.loc[df['Rainfall'] == j]))"
      ],
      "metadata": {
        "id": "YZVaoTS1VDuH"
      },
      "execution_count": null,
      "outputs": []
    },
    {
      "cell_type": "code",
      "source": [
        "listL"
      ],
      "metadata": {
        "colab": {
          "base_uri": "https://localhost:8080/"
        },
        "id": "StfhyyOnVcnJ",
        "outputId": "63ea9be1-7406-4209-a811-ab7976e5d12a"
      },
      "execution_count": null,
      "outputs": [
        {
          "output_type": "execute_result",
          "data": {
            "text/plain": [
              "[['CoolNo', 'CoolYes', 'HotNo', 'HotYes', 'MildNo', 'MildYes'],\n",
              " [0.2, 0.3333333333333333, 0.4, 0.2222222222222222, 0.4, 0.4444444444444444]]"
            ]
          },
          "metadata": {},
          "execution_count": 67
        }
      ]
    },
    {
      "cell_type": "code",
      "source": [],
      "metadata": {
        "colab": {
          "base_uri": "https://localhost:8080/"
        },
        "id": "WDo-dbEMhz_M",
        "outputId": "bd11c515-94c1-4f4d-bb66-63ccd36277fb"
      },
      "execution_count": null,
      "outputs": [
        {
          "output_type": "stream",
          "name": "stdout",
          "text": [
            "0.6428571428571429\n",
            "0.35714285714285715\n"
          ]
        }
      ]
    },
    {
      "cell_type": "code",
      "source": [
        "ListH = [[],[]]\n",
        "for i in np.unique(df['Humidity']):\n",
        "  for j in np.unique(df['Rainfall']):\n",
        "    listL[0].append(i+j)\n",
        "    listL[1].append(df.loc[(df['Climate']==i) & ( df['Rainfall']==j)].shape[0]/len(df.loc[df['Rainfall'] == j]))"
      ],
      "metadata": {
        "id": "kHGL9IKrV1rI"
      },
      "execution_count": null,
      "outputs": []
    },
    {
      "cell_type": "code",
      "source": [
        "df1"
      ],
      "metadata": {
        "colab": {
          "base_uri": "https://localhost:8080/"
        },
        "id": "YLTfXmNkVr13",
        "outputId": "7e465eee-92e8-4929-84df-78b2b91e2d54"
      },
      "execution_count": null,
      "outputs": [
        {
          "output_type": "execute_result",
          "data": {
            "text/plain": [
              "[['CoolNo', 'CoolYes', 'HotNo', 'HotYes', 'MildNo', 'MildYes'],\n",
              " [0.2, 0.3333333333333333, 0.4, 0.2222222222222222, 0.4, 0.4444444444444444]]"
            ]
          },
          "metadata": {},
          "execution_count": 65
        }
      ]
    },
    {
      "cell_type": "code",
      "source": [
        "i + 'Yes'"
      ],
      "metadata": {
        "colab": {
          "base_uri": "https://localhost:8080/",
          "height": 35
        },
        "id": "RwK0fbqUU_cC",
        "outputId": "5805c8ab-2b50-43b0-fe3b-fe21c20f83c1"
      },
      "execution_count": null,
      "outputs": [
        {
          "output_type": "execute_result",
          "data": {
            "text/plain": [
              "'MildYes'"
            ],
            "application/vnd.google.colaboratory.intrinsic+json": {
              "type": "string"
            }
          },
          "metadata": {},
          "execution_count": 56
        }
      ]
    },
    {
      "cell_type": "code",
      "source": [
        "for i in np.unique(df['Climate']):\n",
        " print(i + 'Yes')"
      ],
      "metadata": {
        "colab": {
          "base_uri": "https://localhost:8080/"
        },
        "id": "epIMtVANUw8p",
        "outputId": "08876dbc-41f6-425e-a9e6-043541e03ee6"
      },
      "execution_count": null,
      "outputs": [
        {
          "output_type": "stream",
          "name": "stdout",
          "text": [
            "CoolYes\n",
            "HotYes\n",
            "MildYes\n"
          ]
        }
      ]
    },
    {
      "cell_type": "code",
      "source": [
        "len(df.loc[df['Rainfall'] == 'No'])"
      ],
      "metadata": {
        "colab": {
          "base_uri": "https://localhost:8080/"
        },
        "id": "GpJ0Z5TpSh8h",
        "outputId": "664336c4-8434-47ee-b90e-a000a78b31aa"
      },
      "execution_count": null,
      "outputs": [
        {
          "output_type": "execute_result",
          "data": {
            "text/plain": [
              "5"
            ]
          },
          "metadata": {},
          "execution_count": 39
        }
      ]
    },
    {
      "cell_type": "code",
      "source": [
        "len(df.loc[df['Rainfall'] == 'Yes'])"
      ],
      "metadata": {
        "colab": {
          "base_uri": "https://localhost:8080/"
        },
        "id": "5ECq7gxTSHh6",
        "outputId": "fd6306ec-fd2c-4b20-dc3f-eff98f3b9e87"
      },
      "execution_count": null,
      "outputs": [
        {
          "output_type": "execute_result",
          "data": {
            "text/plain": [
              "9"
            ]
          },
          "metadata": {},
          "execution_count": 36
        }
      ]
    },
    {
      "cell_type": "code",
      "source": [
        "p_HotYes = df.loc[(df['Climate']=='Hot') & ( df['Rainfall']=='Yes')].shape[0]\n",
        "p_HotNo = df.loc[(df['Climate']=='Hot') & ( df['Rainfall']=='No')].shape[0]\n",
        "p_MildYes = df.loc[(df['Climate']=='Mild') & ( df['Rainfall']=='Yes')].shape[0]\n",
        "p_MildNo = df.loc[(df['Climate']=='Mild') & ( df['Rainfall']=='No')].shape[0]\n",
        "\n",
        "print(p_HotYes)\n",
        "print(p_HotNo)\n",
        "print(p_MildYes)\n",
        "print(p_MildNo)"
      ],
      "metadata": {
        "colab": {
          "base_uri": "https://localhost:8080/"
        },
        "id": "7ojKvuAoPLwT",
        "outputId": "09875add-99bc-4eeb-e87c-a9755813fc46"
      },
      "execution_count": null,
      "outputs": [
        {
          "output_type": "stream",
          "name": "stdout",
          "text": [
            "2\n",
            "2\n",
            "4\n",
            "2\n"
          ]
        }
      ]
    },
    {
      "cell_type": "code",
      "source": [
        " df.loc[(df['Climate']=='Mild') & ( df['Rainfall']=='No')]"
      ],
      "metadata": {
        "colab": {
          "base_uri": "https://localhost:8080/",
          "height": 112
        },
        "id": "vwMU1bguRenR",
        "outputId": "5b3c2898-9a5e-45e5-e7fe-62d82f3bc6a3"
      },
      "execution_count": null,
      "outputs": [
        {
          "output_type": "execute_result",
          "data": {
            "text/plain": [
              "  Climate Humidity Outlook  Windy Rainfall\n",
              "7    Mild     High   Sunny   True       No\n",
              "8    Mild     High  Cloudy  False       No"
            ],
            "text/html": [
              "\n",
              "  <div id=\"df-698a0289-df21-427d-ade8-e6239dcbd559\">\n",
              "    <div class=\"colab-df-container\">\n",
              "      <div>\n",
              "<style scoped>\n",
              "    .dataframe tbody tr th:only-of-type {\n",
              "        vertical-align: middle;\n",
              "    }\n",
              "\n",
              "    .dataframe tbody tr th {\n",
              "        vertical-align: top;\n",
              "    }\n",
              "\n",
              "    .dataframe thead th {\n",
              "        text-align: right;\n",
              "    }\n",
              "</style>\n",
              "<table border=\"1\" class=\"dataframe\">\n",
              "  <thead>\n",
              "    <tr style=\"text-align: right;\">\n",
              "      <th></th>\n",
              "      <th>Climate</th>\n",
              "      <th>Humidity</th>\n",
              "      <th>Outlook</th>\n",
              "      <th>Windy</th>\n",
              "      <th>Rainfall</th>\n",
              "    </tr>\n",
              "  </thead>\n",
              "  <tbody>\n",
              "    <tr>\n",
              "      <th>7</th>\n",
              "      <td>Mild</td>\n",
              "      <td>High</td>\n",
              "      <td>Sunny</td>\n",
              "      <td>True</td>\n",
              "      <td>No</td>\n",
              "    </tr>\n",
              "    <tr>\n",
              "      <th>8</th>\n",
              "      <td>Mild</td>\n",
              "      <td>High</td>\n",
              "      <td>Cloudy</td>\n",
              "      <td>False</td>\n",
              "      <td>No</td>\n",
              "    </tr>\n",
              "  </tbody>\n",
              "</table>\n",
              "</div>\n",
              "      <button class=\"colab-df-convert\" onclick=\"convertToInteractive('df-698a0289-df21-427d-ade8-e6239dcbd559')\"\n",
              "              title=\"Convert this dataframe to an interactive table.\"\n",
              "              style=\"display:none;\">\n",
              "        \n",
              "  <svg xmlns=\"http://www.w3.org/2000/svg\" height=\"24px\"viewBox=\"0 0 24 24\"\n",
              "       width=\"24px\">\n",
              "    <path d=\"M0 0h24v24H0V0z\" fill=\"none\"/>\n",
              "    <path d=\"M18.56 5.44l.94 2.06.94-2.06 2.06-.94-2.06-.94-.94-2.06-.94 2.06-2.06.94zm-11 1L8.5 8.5l.94-2.06 2.06-.94-2.06-.94L8.5 2.5l-.94 2.06-2.06.94zm10 10l.94 2.06.94-2.06 2.06-.94-2.06-.94-.94-2.06-.94 2.06-2.06.94z\"/><path d=\"M17.41 7.96l-1.37-1.37c-.4-.4-.92-.59-1.43-.59-.52 0-1.04.2-1.43.59L10.3 9.45l-7.72 7.72c-.78.78-.78 2.05 0 2.83L4 21.41c.39.39.9.59 1.41.59.51 0 1.02-.2 1.41-.59l7.78-7.78 2.81-2.81c.8-.78.8-2.07 0-2.86zM5.41 20L4 18.59l7.72-7.72 1.47 1.35L5.41 20z\"/>\n",
              "  </svg>\n",
              "      </button>\n",
              "      \n",
              "  <style>\n",
              "    .colab-df-container {\n",
              "      display:flex;\n",
              "      flex-wrap:wrap;\n",
              "      gap: 12px;\n",
              "    }\n",
              "\n",
              "    .colab-df-convert {\n",
              "      background-color: #E8F0FE;\n",
              "      border: none;\n",
              "      border-radius: 50%;\n",
              "      cursor: pointer;\n",
              "      display: none;\n",
              "      fill: #1967D2;\n",
              "      height: 32px;\n",
              "      padding: 0 0 0 0;\n",
              "      width: 32px;\n",
              "    }\n",
              "\n",
              "    .colab-df-convert:hover {\n",
              "      background-color: #E2EBFA;\n",
              "      box-shadow: 0px 1px 2px rgba(60, 64, 67, 0.3), 0px 1px 3px 1px rgba(60, 64, 67, 0.15);\n",
              "      fill: #174EA6;\n",
              "    }\n",
              "\n",
              "    [theme=dark] .colab-df-convert {\n",
              "      background-color: #3B4455;\n",
              "      fill: #D2E3FC;\n",
              "    }\n",
              "\n",
              "    [theme=dark] .colab-df-convert:hover {\n",
              "      background-color: #434B5C;\n",
              "      box-shadow: 0px 1px 3px 1px rgba(0, 0, 0, 0.15);\n",
              "      filter: drop-shadow(0px 1px 2px rgba(0, 0, 0, 0.3));\n",
              "      fill: #FFFFFF;\n",
              "    }\n",
              "  </style>\n",
              "\n",
              "      <script>\n",
              "        const buttonEl =\n",
              "          document.querySelector('#df-698a0289-df21-427d-ade8-e6239dcbd559 button.colab-df-convert');\n",
              "        buttonEl.style.display =\n",
              "          google.colab.kernel.accessAllowed ? 'block' : 'none';\n",
              "\n",
              "        async function convertToInteractive(key) {\n",
              "          const element = document.querySelector('#df-698a0289-df21-427d-ade8-e6239dcbd559');\n",
              "          const dataTable =\n",
              "            await google.colab.kernel.invokeFunction('convertToInteractive',\n",
              "                                                     [key], {});\n",
              "          if (!dataTable) return;\n",
              "\n",
              "          const docLinkHtml = 'Like what you see? Visit the ' +\n",
              "            '<a target=\"_blank\" href=https://colab.research.google.com/notebooks/data_table.ipynb>data table notebook</a>'\n",
              "            + ' to learn more about interactive tables.';\n",
              "          element.innerHTML = '';\n",
              "          dataTable['output_type'] = 'display_data';\n",
              "          await google.colab.output.renderOutput(dataTable, element);\n",
              "          const docLink = document.createElement('div');\n",
              "          docLink.innerHTML = docLinkHtml;\n",
              "          element.appendChild(docLink);\n",
              "        }\n",
              "      </script>\n",
              "    </div>\n",
              "  </div>\n",
              "  "
            ]
          },
          "metadata": {},
          "execution_count": 30
        }
      ]
    },
    {
      "cell_type": "code",
      "source": [
        "for i in "
      ],
      "metadata": {
        "id": "xgU07uqmQzlK"
      },
      "execution_count": null,
      "outputs": []
    },
    {
      "cell_type": "code",
      "source": [
        "p_HotNo = df.loc[(df['Climate']=='Hot') & ( df['Rainfall']=='No')].shape[0]"
      ],
      "metadata": {
        "id": "h4chb1iUPjyv"
      },
      "execution_count": null,
      "outputs": []
    },
    {
      "cell_type": "code",
      "source": [],
      "metadata": {
        "id": "F05xrnKDho9T"
      },
      "execution_count": null,
      "outputs": []
    }
  ]
}